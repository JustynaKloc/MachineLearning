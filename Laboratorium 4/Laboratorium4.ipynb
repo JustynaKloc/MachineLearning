{
 "cells": [
  {
   "cell_type": "markdown",
   "metadata": {},
   "source": [
    "Ćwiczenie:\n",
    "\n",
    "- pobierz zbiór danych Rain in Australia (załączony do tej instrukcji)\n",
    "\n",
    "- usuń kolumny mające więcej niż 30% brakujących wartości oraz kolumnę 'Risk-MM'\n",
    "\n",
    "- dokonaj imputacji brakujących wartości zakładając że są one MCAR (Missing Completely At Random), tzn. zmienne kategoryczne należy zastąpić dominantą (najczęściej występującą w kolumnie wartością) a numeryczne medianą (wartością środkową w rosnąco posortowanej kolumnie)\n",
    "\n",
    "- obetnij obserwacje odstające więcej niż 1.5 rozstępu ćwiartkowego\n",
    "\n",
    "- znormalizuj (numeryczne) i zakoduj (kategoryczne) dane\n",
    "\n",
    "- wykorzystując sklearn.linear_model.LogisticRegression, dla każdego z regionów naucz model przewidujący jutrzejsza pogodę 'RainTomorrow'\n",
    "\n",
    "- sprawdź który z modeli najskuteczniej przewiduje pogodę w skali całego kraju (dla każdego klasyfikatora zbiór testowy powinien być próbkowany z podzbiorów testowych dla wszystkich regionów)\n",
    "\n",
    "- sprawdź czy wybrany model miał najwyższe accuracy na własnym zbiorze testowym spośród wszystkich klasyfikatorów\n",
    "\n",
    "- porównaj najlepszy klasyfikator z \"klasyfikatorem\" zawsze wybierającym dominującą wartość w zbiorze\n",
    "\n",
    "- dla najlepszego klasyfikatora wyświetl confusion matrix\n",
    "\n",
    "Przy wykonywaniu zadania należy pamiętać o stratyfikacji."
   ]
  },
  {
   "cell_type": "markdown",
   "metadata": {},
   "source": [
    "Import bibliotek"
   ]
  },
  {
   "cell_type": "code",
   "execution_count": 235,
   "metadata": {},
   "outputs": [],
   "source": [
    "import pandas as pd\n",
    "import numpy as np"
   ]
  },
  {
   "cell_type": "markdown",
   "metadata": {},
   "source": [
    "Wczytanie bazy danych"
   ]
  },
  {
   "cell_type": "code",
   "execution_count": 236,
   "metadata": {},
   "outputs": [],
   "source": [
    "rain = pd.read_csv('weatherAUS.csv')"
   ]
  },
  {
   "cell_type": "markdown",
   "metadata": {},
   "source": [
    "Usunięcie kolumny Risk-MM"
   ]
  },
  {
   "cell_type": "code",
   "execution_count": 237,
   "metadata": {},
   "outputs": [],
   "source": [
    "rain =rain.drop(['RISK_MM'],axis=1)"
   ]
  },
  {
   "cell_type": "markdown",
   "metadata": {},
   "source": [
    "Usunięcie kolumn, w których brakuje więcej niż 30% wartości"
   ]
  },
  {
   "cell_type": "code",
   "execution_count": 238,
   "metadata": {},
   "outputs": [
    {
     "data": {
      "text/html": [
       "<div>\n",
       "<style scoped>\n",
       "    .dataframe tbody tr th:only-of-type {\n",
       "        vertical-align: middle;\n",
       "    }\n",
       "\n",
       "    .dataframe tbody tr th {\n",
       "        vertical-align: top;\n",
       "    }\n",
       "\n",
       "    .dataframe thead th {\n",
       "        text-align: right;\n",
       "    }\n",
       "</style>\n",
       "<table border=\"1\" class=\"dataframe\">\n",
       "  <thead>\n",
       "    <tr style=\"text-align: right;\">\n",
       "      <th></th>\n",
       "      <th>Date</th>\n",
       "      <th>Location</th>\n",
       "      <th>MinTemp</th>\n",
       "      <th>MaxTemp</th>\n",
       "      <th>Rainfall</th>\n",
       "      <th>WindGustDir</th>\n",
       "      <th>WindGustSpeed</th>\n",
       "      <th>WindDir9am</th>\n",
       "      <th>WindDir3pm</th>\n",
       "      <th>WindSpeed9am</th>\n",
       "      <th>WindSpeed3pm</th>\n",
       "      <th>Humidity9am</th>\n",
       "      <th>Humidity3pm</th>\n",
       "      <th>Pressure9am</th>\n",
       "      <th>Pressure3pm</th>\n",
       "      <th>Temp9am</th>\n",
       "      <th>Temp3pm</th>\n",
       "      <th>RainToday</th>\n",
       "      <th>RainTomorrow</th>\n",
       "    </tr>\n",
       "  </thead>\n",
       "  <tbody>\n",
       "    <tr>\n",
       "      <th>0</th>\n",
       "      <td>2008-12-01</td>\n",
       "      <td>Albury</td>\n",
       "      <td>13.4</td>\n",
       "      <td>22.9</td>\n",
       "      <td>0.6</td>\n",
       "      <td>W</td>\n",
       "      <td>44.0</td>\n",
       "      <td>W</td>\n",
       "      <td>WNW</td>\n",
       "      <td>20.0</td>\n",
       "      <td>24.0</td>\n",
       "      <td>71.0</td>\n",
       "      <td>22.0</td>\n",
       "      <td>1007.7</td>\n",
       "      <td>1007.1</td>\n",
       "      <td>16.9</td>\n",
       "      <td>21.8</td>\n",
       "      <td>No</td>\n",
       "      <td>No</td>\n",
       "    </tr>\n",
       "    <tr>\n",
       "      <th>1</th>\n",
       "      <td>2008-12-02</td>\n",
       "      <td>Albury</td>\n",
       "      <td>7.4</td>\n",
       "      <td>25.1</td>\n",
       "      <td>0.0</td>\n",
       "      <td>WNW</td>\n",
       "      <td>44.0</td>\n",
       "      <td>NNW</td>\n",
       "      <td>WSW</td>\n",
       "      <td>4.0</td>\n",
       "      <td>22.0</td>\n",
       "      <td>44.0</td>\n",
       "      <td>25.0</td>\n",
       "      <td>1010.6</td>\n",
       "      <td>1007.8</td>\n",
       "      <td>17.2</td>\n",
       "      <td>24.3</td>\n",
       "      <td>No</td>\n",
       "      <td>No</td>\n",
       "    </tr>\n",
       "    <tr>\n",
       "      <th>2</th>\n",
       "      <td>2008-12-03</td>\n",
       "      <td>Albury</td>\n",
       "      <td>12.9</td>\n",
       "      <td>25.7</td>\n",
       "      <td>0.0</td>\n",
       "      <td>WSW</td>\n",
       "      <td>46.0</td>\n",
       "      <td>W</td>\n",
       "      <td>WSW</td>\n",
       "      <td>19.0</td>\n",
       "      <td>26.0</td>\n",
       "      <td>38.0</td>\n",
       "      <td>30.0</td>\n",
       "      <td>1007.6</td>\n",
       "      <td>1008.7</td>\n",
       "      <td>21.0</td>\n",
       "      <td>23.2</td>\n",
       "      <td>No</td>\n",
       "      <td>No</td>\n",
       "    </tr>\n",
       "    <tr>\n",
       "      <th>3</th>\n",
       "      <td>2008-12-04</td>\n",
       "      <td>Albury</td>\n",
       "      <td>9.2</td>\n",
       "      <td>28.0</td>\n",
       "      <td>0.0</td>\n",
       "      <td>NE</td>\n",
       "      <td>24.0</td>\n",
       "      <td>SE</td>\n",
       "      <td>E</td>\n",
       "      <td>11.0</td>\n",
       "      <td>9.0</td>\n",
       "      <td>45.0</td>\n",
       "      <td>16.0</td>\n",
       "      <td>1017.6</td>\n",
       "      <td>1012.8</td>\n",
       "      <td>18.1</td>\n",
       "      <td>26.5</td>\n",
       "      <td>No</td>\n",
       "      <td>No</td>\n",
       "    </tr>\n",
       "    <tr>\n",
       "      <th>4</th>\n",
       "      <td>2008-12-05</td>\n",
       "      <td>Albury</td>\n",
       "      <td>17.5</td>\n",
       "      <td>32.3</td>\n",
       "      <td>1.0</td>\n",
       "      <td>W</td>\n",
       "      <td>41.0</td>\n",
       "      <td>ENE</td>\n",
       "      <td>NW</td>\n",
       "      <td>7.0</td>\n",
       "      <td>20.0</td>\n",
       "      <td>82.0</td>\n",
       "      <td>33.0</td>\n",
       "      <td>1010.8</td>\n",
       "      <td>1006.0</td>\n",
       "      <td>17.8</td>\n",
       "      <td>29.7</td>\n",
       "      <td>No</td>\n",
       "      <td>No</td>\n",
       "    </tr>\n",
       "  </tbody>\n",
       "</table>\n",
       "</div>"
      ],
      "text/plain": [
       "         Date Location  MinTemp  MaxTemp  Rainfall WindGustDir  WindGustSpeed  \\\n",
       "0  2008-12-01   Albury     13.4     22.9       0.6           W           44.0   \n",
       "1  2008-12-02   Albury      7.4     25.1       0.0         WNW           44.0   \n",
       "2  2008-12-03   Albury     12.9     25.7       0.0         WSW           46.0   \n",
       "3  2008-12-04   Albury      9.2     28.0       0.0          NE           24.0   \n",
       "4  2008-12-05   Albury     17.5     32.3       1.0           W           41.0   \n",
       "\n",
       "  WindDir9am WindDir3pm  WindSpeed9am  WindSpeed3pm  Humidity9am  Humidity3pm  \\\n",
       "0          W        WNW          20.0          24.0         71.0         22.0   \n",
       "1        NNW        WSW           4.0          22.0         44.0         25.0   \n",
       "2          W        WSW          19.0          26.0         38.0         30.0   \n",
       "3         SE          E          11.0           9.0         45.0         16.0   \n",
       "4        ENE         NW           7.0          20.0         82.0         33.0   \n",
       "\n",
       "   Pressure9am  Pressure3pm  Temp9am  Temp3pm RainToday RainTomorrow  \n",
       "0       1007.7       1007.1     16.9     21.8        No           No  \n",
       "1       1010.6       1007.8     17.2     24.3        No           No  \n",
       "2       1007.6       1008.7     21.0     23.2        No           No  \n",
       "3       1017.6       1012.8     18.1     26.5        No           No  \n",
       "4       1010.8       1006.0     17.8     29.7        No           No  "
      ]
     },
     "execution_count": 238,
     "metadata": {},
     "output_type": "execute_result"
    }
   ],
   "source": [
    "raindf = rain.drop(rain.loc[:,list((100*(rain.isnull().sum()/len(rain.index))>30))].columns, 1)\n",
    "raindf.head()"
   ]
  },
  {
   "cell_type": "markdown",
   "metadata": {},
   "source": [
    "Sprawdzenie, które kolumny zawierają nullowe wartości:"
   ]
  },
  {
   "cell_type": "code",
   "execution_count": 239,
   "metadata": {},
   "outputs": [],
   "source": [
    "columns = []\n",
    "for col in raindf.columns: \n",
    "    columns.append(col) "
   ]
  },
  {
   "cell_type": "code",
   "execution_count": 240,
   "metadata": {},
   "outputs": [
    {
     "name": "stdout",
     "output_type": "stream",
     "text": [
      "0\n",
      "0\n",
      "637\n",
      "322\n",
      "1406\n",
      "9330\n",
      "9270\n",
      "10013\n",
      "3778\n",
      "1348\n",
      "2630\n",
      "1774\n",
      "3610\n",
      "14014\n",
      "13981\n",
      "904\n",
      "2726\n",
      "1406\n",
      "0\n"
     ]
    }
   ],
   "source": [
    "for columna in columns: \n",
    "    print(raindf[columna].isnull().sum())"
   ]
  },
  {
   "cell_type": "code",
   "execution_count": 241,
   "metadata": {},
   "outputs": [
    {
     "data": {
      "text/plain": [
       "['MinTemp',\n",
       " 'MaxTemp',\n",
       " 'Rainfall',\n",
       " 'WindGustDir',\n",
       " 'WindGustSpeed',\n",
       " 'WindDir9am',\n",
       " 'WindDir3pm',\n",
       " 'WindSpeed9am',\n",
       " 'WindSpeed3pm',\n",
       " 'Humidity9am',\n",
       " 'Humidity3pm',\n",
       " 'Pressure9am',\n",
       " 'Pressure3pm',\n",
       " 'Temp9am',\n",
       " 'Temp3pm',\n",
       " 'RainToday']"
      ]
     },
     "execution_count": 241,
     "metadata": {},
     "output_type": "execute_result"
    }
   ],
   "source": [
    "kolumny = columns[2:-1]\n",
    "kolumny"
   ]
  },
  {
   "cell_type": "code",
   "execution_count": 242,
   "metadata": {},
   "outputs": [],
   "source": [
    "dominanty= []\n",
    "for kolumna in kolumny:\n",
    "    a = raindf[kolumna].value_counts().nlargest(1)\n",
    "    dominanty.append(a)"
   ]
  },
  {
   "cell_type": "code",
   "execution_count": 243,
   "metadata": {},
   "outputs": [
    {
     "data": {
      "text/plain": [
       "[9.6    883\n",
       " Name: MinTemp, dtype: int64,\n",
       " 20.0    871\n",
       " Name: MaxTemp, dtype: int64,\n",
       " 0.0    90275\n",
       " Name: Rainfall, dtype: int64,\n",
       " W    9780\n",
       " Name: WindGustDir, dtype: int64,\n",
       " 35.0    9070\n",
       " Name: WindGustSpeed, dtype: int64,\n",
       " N    11393\n",
       " Name: WindDir9am, dtype: int64,\n",
       " SE    10663\n",
       " Name: WindDir3pm, dtype: int64,\n",
       " 9.0    13400\n",
       " Name: WindSpeed9am, dtype: int64,\n",
       " 13.0    12338\n",
       " Name: WindSpeed3pm, dtype: int64,\n",
       " 99.0    3350\n",
       " Name: Humidity9am, dtype: int64,\n",
       " 52.0    2699\n",
       " Name: Humidity3pm, dtype: int64,\n",
       " 1016.4    804\n",
       " Name: Pressure9am, dtype: int64,\n",
       " 1015.5    773\n",
       " Name: Pressure3pm, dtype: int64,\n",
       " 17.0    901\n",
       " Name: Temp9am, dtype: int64,\n",
       " 20.0    871\n",
       " Name: Temp3pm, dtype: int64,\n",
       " No    109332\n",
       " Name: RainToday, dtype: int64]"
      ]
     },
     "execution_count": 243,
     "metadata": {},
     "output_type": "execute_result"
    }
   ],
   "source": [
    "dominanty"
   ]
  },
  {
   "cell_type": "code",
   "execution_count": 244,
   "metadata": {},
   "outputs": [
    {
     "data": {
      "text/html": [
       "<div>\n",
       "<style scoped>\n",
       "    .dataframe tbody tr th:only-of-type {\n",
       "        vertical-align: middle;\n",
       "    }\n",
       "\n",
       "    .dataframe tbody tr th {\n",
       "        vertical-align: top;\n",
       "    }\n",
       "\n",
       "    .dataframe thead th {\n",
       "        text-align: right;\n",
       "    }\n",
       "</style>\n",
       "<table border=\"1\" class=\"dataframe\">\n",
       "  <thead>\n",
       "    <tr style=\"text-align: right;\">\n",
       "      <th></th>\n",
       "      <th>Date</th>\n",
       "      <th>Location</th>\n",
       "      <th>MinTemp</th>\n",
       "      <th>MaxTemp</th>\n",
       "      <th>Rainfall</th>\n",
       "      <th>WindGustDir</th>\n",
       "      <th>WindGustSpeed</th>\n",
       "      <th>WindDir9am</th>\n",
       "      <th>WindDir3pm</th>\n",
       "      <th>WindSpeed9am</th>\n",
       "      <th>WindSpeed3pm</th>\n",
       "      <th>Humidity9am</th>\n",
       "      <th>Humidity3pm</th>\n",
       "      <th>Pressure9am</th>\n",
       "      <th>Pressure3pm</th>\n",
       "      <th>Temp9am</th>\n",
       "      <th>Temp3pm</th>\n",
       "      <th>RainToday</th>\n",
       "      <th>RainTomorrow</th>\n",
       "    </tr>\n",
       "  </thead>\n",
       "  <tbody>\n",
       "    <tr>\n",
       "      <th>0</th>\n",
       "      <td>2008-12-01</td>\n",
       "      <td>Albury</td>\n",
       "      <td>13.4</td>\n",
       "      <td>22.9</td>\n",
       "      <td>0.6</td>\n",
       "      <td>W</td>\n",
       "      <td>44.0</td>\n",
       "      <td>W</td>\n",
       "      <td>WNW</td>\n",
       "      <td>20.0</td>\n",
       "      <td>24.0</td>\n",
       "      <td>71.0</td>\n",
       "      <td>22.0</td>\n",
       "      <td>1007.7</td>\n",
       "      <td>1007.1</td>\n",
       "      <td>16.9</td>\n",
       "      <td>21.8</td>\n",
       "      <td>No</td>\n",
       "      <td>No</td>\n",
       "    </tr>\n",
       "    <tr>\n",
       "      <th>1</th>\n",
       "      <td>2008-12-02</td>\n",
       "      <td>Albury</td>\n",
       "      <td>7.4</td>\n",
       "      <td>25.1</td>\n",
       "      <td>0.0</td>\n",
       "      <td>WNW</td>\n",
       "      <td>44.0</td>\n",
       "      <td>NNW</td>\n",
       "      <td>WSW</td>\n",
       "      <td>4.0</td>\n",
       "      <td>22.0</td>\n",
       "      <td>44.0</td>\n",
       "      <td>25.0</td>\n",
       "      <td>1010.6</td>\n",
       "      <td>1007.8</td>\n",
       "      <td>17.2</td>\n",
       "      <td>24.3</td>\n",
       "      <td>No</td>\n",
       "      <td>No</td>\n",
       "    </tr>\n",
       "    <tr>\n",
       "      <th>2</th>\n",
       "      <td>2008-12-03</td>\n",
       "      <td>Albury</td>\n",
       "      <td>12.9</td>\n",
       "      <td>25.7</td>\n",
       "      <td>0.0</td>\n",
       "      <td>WSW</td>\n",
       "      <td>46.0</td>\n",
       "      <td>W</td>\n",
       "      <td>WSW</td>\n",
       "      <td>19.0</td>\n",
       "      <td>26.0</td>\n",
       "      <td>38.0</td>\n",
       "      <td>30.0</td>\n",
       "      <td>1007.6</td>\n",
       "      <td>1008.7</td>\n",
       "      <td>21.0</td>\n",
       "      <td>23.2</td>\n",
       "      <td>No</td>\n",
       "      <td>No</td>\n",
       "    </tr>\n",
       "    <tr>\n",
       "      <th>3</th>\n",
       "      <td>2008-12-04</td>\n",
       "      <td>Albury</td>\n",
       "      <td>9.2</td>\n",
       "      <td>28.0</td>\n",
       "      <td>0.0</td>\n",
       "      <td>NE</td>\n",
       "      <td>24.0</td>\n",
       "      <td>SE</td>\n",
       "      <td>E</td>\n",
       "      <td>11.0</td>\n",
       "      <td>9.0</td>\n",
       "      <td>45.0</td>\n",
       "      <td>16.0</td>\n",
       "      <td>1017.6</td>\n",
       "      <td>1012.8</td>\n",
       "      <td>18.1</td>\n",
       "      <td>26.5</td>\n",
       "      <td>No</td>\n",
       "      <td>No</td>\n",
       "    </tr>\n",
       "    <tr>\n",
       "      <th>4</th>\n",
       "      <td>2008-12-05</td>\n",
       "      <td>Albury</td>\n",
       "      <td>17.5</td>\n",
       "      <td>32.3</td>\n",
       "      <td>1.0</td>\n",
       "      <td>W</td>\n",
       "      <td>41.0</td>\n",
       "      <td>ENE</td>\n",
       "      <td>NW</td>\n",
       "      <td>7.0</td>\n",
       "      <td>20.0</td>\n",
       "      <td>82.0</td>\n",
       "      <td>33.0</td>\n",
       "      <td>1010.8</td>\n",
       "      <td>1006.0</td>\n",
       "      <td>17.8</td>\n",
       "      <td>29.7</td>\n",
       "      <td>No</td>\n",
       "      <td>No</td>\n",
       "    </tr>\n",
       "  </tbody>\n",
       "</table>\n",
       "</div>"
      ],
      "text/plain": [
       "         Date Location  MinTemp  MaxTemp  Rainfall WindGustDir  WindGustSpeed  \\\n",
       "0  2008-12-01   Albury     13.4     22.9       0.6           W           44.0   \n",
       "1  2008-12-02   Albury      7.4     25.1       0.0         WNW           44.0   \n",
       "2  2008-12-03   Albury     12.9     25.7       0.0         WSW           46.0   \n",
       "3  2008-12-04   Albury      9.2     28.0       0.0          NE           24.0   \n",
       "4  2008-12-05   Albury     17.5     32.3       1.0           W           41.0   \n",
       "\n",
       "  WindDir9am WindDir3pm  WindSpeed9am  WindSpeed3pm  Humidity9am  Humidity3pm  \\\n",
       "0          W        WNW          20.0          24.0         71.0         22.0   \n",
       "1        NNW        WSW           4.0          22.0         44.0         25.0   \n",
       "2          W        WSW          19.0          26.0         38.0         30.0   \n",
       "3         SE          E          11.0           9.0         45.0         16.0   \n",
       "4        ENE         NW           7.0          20.0         82.0         33.0   \n",
       "\n",
       "   Pressure9am  Pressure3pm  Temp9am  Temp3pm RainToday RainTomorrow  \n",
       "0       1007.7       1007.1     16.9     21.8        No           No  \n",
       "1       1010.6       1007.8     17.2     24.3        No           No  \n",
       "2       1007.6       1008.7     21.0     23.2        No           No  \n",
       "3       1017.6       1012.8     18.1     26.5        No           No  \n",
       "4       1010.8       1006.0     17.8     29.7        No           No  "
      ]
     },
     "execution_count": 244,
     "metadata": {},
     "output_type": "execute_result"
    }
   ],
   "source": [
    "raindf.head()"
   ]
  },
  {
   "cell_type": "markdown",
   "metadata": {},
   "source": [
    "Uzupełnienie zmiennych kategorycznych dominantami"
   ]
  },
  {
   "cell_type": "code",
   "execution_count": 245,
   "metadata": {},
   "outputs": [],
   "source": [
    "raindf['RainToday'].fillna('No', inplace = True)\n",
    "raindf['WindDir3pm'].fillna('SE', inplace = True)\n",
    "raindf['WindDir9am'].fillna('N', inplace = True)\n",
    "raindf['WindGustDir'].fillna('W', inplace = True)"
   ]
  },
  {
   "cell_type": "markdown",
   "metadata": {},
   "source": [
    "Uzupełnienie zmiennych numerycznych medianą "
   ]
  },
  {
   "cell_type": "code",
   "execution_count": 246,
   "metadata": {},
   "outputs": [],
   "source": [
    "raindf.fillna(raindf.median(),inplace = True)"
   ]
  },
  {
   "cell_type": "markdown",
   "metadata": {},
   "source": [
    "Sprawdzenie czy zostały jeszcze wartości Nan"
   ]
  },
  {
   "cell_type": "code",
   "execution_count": 247,
   "metadata": {},
   "outputs": [
    {
     "name": "stdout",
     "output_type": "stream",
     "text": [
      "0\n",
      "0\n",
      "0\n",
      "0\n",
      "0\n",
      "0\n",
      "0\n",
      "0\n",
      "0\n",
      "0\n",
      "0\n",
      "0\n",
      "0\n",
      "0\n",
      "0\n",
      "0\n",
      "0\n",
      "0\n",
      "0\n"
     ]
    }
   ],
   "source": [
    "columns = []\n",
    "for col in raindf.columns: \n",
    "    columns.append(col) \n",
    "for columna in columns: \n",
    "    print(raindf[columna].isnull().sum())"
   ]
  },
  {
   "cell_type": "markdown",
   "metadata": {},
   "source": [
    "obcięcie obserwacji odstających więcej niż 1.5 rozstępu ćwiartkowego"
   ]
  },
  {
   "cell_type": "code",
   "execution_count": 248,
   "metadata": {},
   "outputs": [],
   "source": [
    "newdf = raindf.select_dtypes(include='float64')\n",
    "columns_n = []\n",
    "for col in newdf.columns: \n",
    "    columns_n.append(col) "
   ]
  },
  {
   "cell_type": "code",
   "execution_count": 249,
   "metadata": {},
   "outputs": [
    {
     "data": {
      "text/plain": [
       "['MinTemp',\n",
       " 'MaxTemp',\n",
       " 'Rainfall',\n",
       " 'WindGustSpeed',\n",
       " 'WindSpeed9am',\n",
       " 'WindSpeed3pm',\n",
       " 'Humidity9am',\n",
       " 'Humidity3pm',\n",
       " 'Pressure9am',\n",
       " 'Pressure3pm',\n",
       " 'Temp9am',\n",
       " 'Temp3pm']"
      ]
     },
     "execution_count": 249,
     "metadata": {},
     "output_type": "execute_result"
    }
   ],
   "source": [
    "columns_n"
   ]
  },
  {
   "cell_type": "code",
   "execution_count": 250,
   "metadata": {},
   "outputs": [],
   "source": [
    "for kolumna in columns_n:\n",
    "    Q1 = raindf[kolumna].quantile(0.25)\n",
    "    Q3 = raindf[kolumna].quantile(0.75)\n",
    "    IQR = Q3 - Q1\n",
    "    A = Q1 - 1.5 * IQR \n",
    "    B = Q3 + 1.5 * IQR\n",
    "    mask = raindf[kolumna].between(A, B, inclusive=True)\n",
    "    mask = mask.to_numpy()\n",
    "    for i in range(len(mask)):\n",
    "        if (mask[i] == False):\n",
    "            try:\n",
    "                raindf = raindf.drop([i], axis=0)   \n",
    "            except:\n",
    "                pass"
   ]
  },
  {
   "cell_type": "code",
   "execution_count": 251,
   "metadata": {},
   "outputs": [
    {
     "data": {
      "text/plain": [
       "(103893, 19)"
      ]
     },
     "execution_count": 251,
     "metadata": {},
     "output_type": "execute_result"
    }
   ],
   "source": [
    "raindf.shape"
   ]
  },
  {
   "cell_type": "code",
   "execution_count": 252,
   "metadata": {},
   "outputs": [],
   "source": [
    "raindf_zapasowa = raindf "
   ]
  },
  {
   "cell_type": "markdown",
   "metadata": {},
   "source": [
    "znormalizuj (numeryczne) i zakoduj (kategoryczne) dane"
   ]
  },
  {
   "cell_type": "markdown",
   "metadata": {},
   "source": [
    "normalizacja za pomocą średniej"
   ]
  },
  {
   "cell_type": "code",
   "execution_count": 253,
   "metadata": {},
   "outputs": [],
   "source": [
    "for kolumna in columns_n:\n",
    "    raindf[kolumna] = (raindf[kolumna]-raindf[kolumna].mean())/raindf[kolumna].std()"
   ]
  },
  {
   "cell_type": "code",
   "execution_count": 254,
   "metadata": {},
   "outputs": [
    {
     "data": {
      "text/html": [
       "<div>\n",
       "<style scoped>\n",
       "    .dataframe tbody tr th:only-of-type {\n",
       "        vertical-align: middle;\n",
       "    }\n",
       "\n",
       "    .dataframe tbody tr th {\n",
       "        vertical-align: top;\n",
       "    }\n",
       "\n",
       "    .dataframe thead th {\n",
       "        text-align: right;\n",
       "    }\n",
       "</style>\n",
       "<table border=\"1\" class=\"dataframe\">\n",
       "  <thead>\n",
       "    <tr style=\"text-align: right;\">\n",
       "      <th></th>\n",
       "      <th>Date</th>\n",
       "      <th>Location</th>\n",
       "      <th>MinTemp</th>\n",
       "      <th>MaxTemp</th>\n",
       "      <th>Rainfall</th>\n",
       "      <th>WindGustDir</th>\n",
       "      <th>WindGustSpeed</th>\n",
       "      <th>WindDir9am</th>\n",
       "      <th>WindDir3pm</th>\n",
       "      <th>WindSpeed9am</th>\n",
       "      <th>WindSpeed3pm</th>\n",
       "      <th>Humidity9am</th>\n",
       "      <th>Humidity3pm</th>\n",
       "      <th>Pressure9am</th>\n",
       "      <th>Pressure3pm</th>\n",
       "      <th>Temp9am</th>\n",
       "      <th>Temp3pm</th>\n",
       "      <th>RainToday</th>\n",
       "      <th>RainTomorrow</th>\n",
       "    </tr>\n",
       "  </thead>\n",
       "  <tbody>\n",
       "    <tr>\n",
       "      <th>0</th>\n",
       "      <td>2008-12-01</td>\n",
       "      <td>Albury</td>\n",
       "      <td>0.187310</td>\n",
       "      <td>-0.071111</td>\n",
       "      <td>-0.205977</td>\n",
       "      <td>W</td>\n",
       "      <td>0.316697</td>\n",
       "      <td>W</td>\n",
       "      <td>WNW</td>\n",
       "      <td>0.678885</td>\n",
       "      <td>0.628341</td>\n",
       "      <td>0.137185</td>\n",
       "      <td>-1.394779</td>\n",
       "      <td>-1.472117</td>\n",
       "      <td>-1.212802</td>\n",
       "      <td>-0.027295</td>\n",
       "      <td>-0.006032</td>\n",
       "      <td>No</td>\n",
       "      <td>No</td>\n",
       "    </tr>\n",
       "    <tr>\n",
       "      <th>1</th>\n",
       "      <td>2008-12-02</td>\n",
       "      <td>Albury</td>\n",
       "      <td>-0.751807</td>\n",
       "      <td>0.239266</td>\n",
       "      <td>-0.278611</td>\n",
       "      <td>WNW</td>\n",
       "      <td>0.316697</td>\n",
       "      <td>NNW</td>\n",
       "      <td>WSW</td>\n",
       "      <td>-1.132443</td>\n",
       "      <td>0.397712</td>\n",
       "      <td>-1.272170</td>\n",
       "      <td>-1.249242</td>\n",
       "      <td>-1.043166</td>\n",
       "      <td>-1.108347</td>\n",
       "      <td>0.019103</td>\n",
       "      <td>0.358680</td>\n",
       "      <td>No</td>\n",
       "      <td>No</td>\n",
       "    </tr>\n",
       "    <tr>\n",
       "      <th>2</th>\n",
       "      <td>2008-12-03</td>\n",
       "      <td>Albury</td>\n",
       "      <td>0.109050</td>\n",
       "      <td>0.323914</td>\n",
       "      <td>-0.278611</td>\n",
       "      <td>WSW</td>\n",
       "      <td>0.469017</td>\n",
       "      <td>W</td>\n",
       "      <td>WSW</td>\n",
       "      <td>0.565677</td>\n",
       "      <td>0.858969</td>\n",
       "      <td>-1.585360</td>\n",
       "      <td>-1.006681</td>\n",
       "      <td>-1.486908</td>\n",
       "      <td>-0.974047</td>\n",
       "      <td>0.606815</td>\n",
       "      <td>0.198207</td>\n",
       "      <td>No</td>\n",
       "      <td>No</td>\n",
       "    </tr>\n",
       "    <tr>\n",
       "      <th>3</th>\n",
       "      <td>2008-12-04</td>\n",
       "      <td>Albury</td>\n",
       "      <td>-0.470072</td>\n",
       "      <td>0.648400</td>\n",
       "      <td>-0.278611</td>\n",
       "      <td>NE</td>\n",
       "      <td>-1.206504</td>\n",
       "      <td>SE</td>\n",
       "      <td>E</td>\n",
       "      <td>-0.339987</td>\n",
       "      <td>-1.101373</td>\n",
       "      <td>-1.219972</td>\n",
       "      <td>-1.685852</td>\n",
       "      <td>-0.007767</td>\n",
       "      <td>-0.362237</td>\n",
       "      <td>0.158298</td>\n",
       "      <td>0.679625</td>\n",
       "      <td>No</td>\n",
       "      <td>No</td>\n",
       "    </tr>\n",
       "    <tr>\n",
       "      <th>4</th>\n",
       "      <td>2008-12-05</td>\n",
       "      <td>Albury</td>\n",
       "      <td>0.829040</td>\n",
       "      <td>1.255046</td>\n",
       "      <td>-0.157554</td>\n",
       "      <td>W</td>\n",
       "      <td>0.088217</td>\n",
       "      <td>ENE</td>\n",
       "      <td>NW</td>\n",
       "      <td>-0.792819</td>\n",
       "      <td>0.167084</td>\n",
       "      <td>0.711366</td>\n",
       "      <td>-0.861144</td>\n",
       "      <td>-1.013583</td>\n",
       "      <td>-1.376947</td>\n",
       "      <td>0.111900</td>\n",
       "      <td>1.146456</td>\n",
       "      <td>No</td>\n",
       "      <td>No</td>\n",
       "    </tr>\n",
       "  </tbody>\n",
       "</table>\n",
       "</div>"
      ],
      "text/plain": [
       "         Date Location   MinTemp   MaxTemp  Rainfall WindGustDir  \\\n",
       "0  2008-12-01   Albury  0.187310 -0.071111 -0.205977           W   \n",
       "1  2008-12-02   Albury -0.751807  0.239266 -0.278611         WNW   \n",
       "2  2008-12-03   Albury  0.109050  0.323914 -0.278611         WSW   \n",
       "3  2008-12-04   Albury -0.470072  0.648400 -0.278611          NE   \n",
       "4  2008-12-05   Albury  0.829040  1.255046 -0.157554           W   \n",
       "\n",
       "   WindGustSpeed WindDir9am WindDir3pm  WindSpeed9am  WindSpeed3pm  \\\n",
       "0       0.316697          W        WNW      0.678885      0.628341   \n",
       "1       0.316697        NNW        WSW     -1.132443      0.397712   \n",
       "2       0.469017          W        WSW      0.565677      0.858969   \n",
       "3      -1.206504         SE          E     -0.339987     -1.101373   \n",
       "4       0.088217        ENE         NW     -0.792819      0.167084   \n",
       "\n",
       "   Humidity9am  Humidity3pm  Pressure9am  Pressure3pm   Temp9am   Temp3pm  \\\n",
       "0     0.137185    -1.394779    -1.472117    -1.212802 -0.027295 -0.006032   \n",
       "1    -1.272170    -1.249242    -1.043166    -1.108347  0.019103  0.358680   \n",
       "2    -1.585360    -1.006681    -1.486908    -0.974047  0.606815  0.198207   \n",
       "3    -1.219972    -1.685852    -0.007767    -0.362237  0.158298  0.679625   \n",
       "4     0.711366    -0.861144    -1.013583    -1.376947  0.111900  1.146456   \n",
       "\n",
       "  RainToday RainTomorrow  \n",
       "0        No           No  \n",
       "1        No           No  \n",
       "2        No           No  \n",
       "3        No           No  \n",
       "4        No           No  "
      ]
     },
     "execution_count": 254,
     "metadata": {},
     "output_type": "execute_result"
    }
   ],
   "source": [
    "raindf.head()"
   ]
  },
  {
   "cell_type": "markdown",
   "metadata": {},
   "source": [
    "Kodowanie danych kategorycznych"
   ]
  },
  {
   "cell_type": "code",
   "execution_count": 257,
   "metadata": {},
   "outputs": [],
   "source": [
    "d2 = pd.get_dummies(raindf['WindDir3pm'])\n",
    "d3 = pd.get_dummies(raindf['WindDir9am'])\n",
    "d4 = pd.get_dummies(raindf['WindGustDir'])"
   ]
  },
  {
   "cell_type": "code",
   "execution_count": 255,
   "metadata": {},
   "outputs": [],
   "source": [
    "raindf['RainToday'] = raindf['RainToday'].map({'Yes': 1, 'No': 0})\n",
    "\n",
    "raindf['RainTomorrow'] = raindf['RainTomorrow'].map({'Yes': 1, 'No': 0})"
   ]
  },
  {
   "cell_type": "code",
   "execution_count": 256,
   "metadata": {},
   "outputs": [
    {
     "data": {
      "text/plain": [
       "0         0\n",
       "1         0\n",
       "2         0\n",
       "3         0\n",
       "4         0\n",
       "         ..\n",
       "142188    0\n",
       "142189    0\n",
       "142190    0\n",
       "142191    0\n",
       "142192    0\n",
       "Name: RainToday, Length: 103893, dtype: int64"
      ]
     },
     "execution_count": 256,
     "metadata": {},
     "output_type": "execute_result"
    }
   ],
   "source": [
    "raindf['RainToday']"
   ]
  },
  {
   "cell_type": "code",
   "execution_count": 258,
   "metadata": {},
   "outputs": [],
   "source": [
    "raindf = pd.concat([raindf,d2,d3,d4], axis =1)"
   ]
  },
  {
   "cell_type": "code",
   "execution_count": 259,
   "metadata": {},
   "outputs": [
    {
     "data": {
      "text/html": [
       "<div>\n",
       "<style scoped>\n",
       "    .dataframe tbody tr th:only-of-type {\n",
       "        vertical-align: middle;\n",
       "    }\n",
       "\n",
       "    .dataframe tbody tr th {\n",
       "        vertical-align: top;\n",
       "    }\n",
       "\n",
       "    .dataframe thead th {\n",
       "        text-align: right;\n",
       "    }\n",
       "</style>\n",
       "<table border=\"1\" class=\"dataframe\">\n",
       "  <thead>\n",
       "    <tr style=\"text-align: right;\">\n",
       "      <th></th>\n",
       "      <th>Date</th>\n",
       "      <th>Location</th>\n",
       "      <th>MinTemp</th>\n",
       "      <th>MaxTemp</th>\n",
       "      <th>Rainfall</th>\n",
       "      <th>WindGustDir</th>\n",
       "      <th>WindGustSpeed</th>\n",
       "      <th>WindDir9am</th>\n",
       "      <th>WindDir3pm</th>\n",
       "      <th>WindSpeed9am</th>\n",
       "      <th>...</th>\n",
       "      <th>NNW</th>\n",
       "      <th>NW</th>\n",
       "      <th>S</th>\n",
       "      <th>SE</th>\n",
       "      <th>SSE</th>\n",
       "      <th>SSW</th>\n",
       "      <th>SW</th>\n",
       "      <th>W</th>\n",
       "      <th>WNW</th>\n",
       "      <th>WSW</th>\n",
       "    </tr>\n",
       "  </thead>\n",
       "  <tbody>\n",
       "    <tr>\n",
       "      <th>0</th>\n",
       "      <td>2008-12-01</td>\n",
       "      <td>Albury</td>\n",
       "      <td>0.187310</td>\n",
       "      <td>-0.071111</td>\n",
       "      <td>-0.205977</td>\n",
       "      <td>W</td>\n",
       "      <td>0.316697</td>\n",
       "      <td>W</td>\n",
       "      <td>WNW</td>\n",
       "      <td>0.678885</td>\n",
       "      <td>...</td>\n",
       "      <td>0</td>\n",
       "      <td>0</td>\n",
       "      <td>0</td>\n",
       "      <td>0</td>\n",
       "      <td>0</td>\n",
       "      <td>0</td>\n",
       "      <td>0</td>\n",
       "      <td>1</td>\n",
       "      <td>0</td>\n",
       "      <td>0</td>\n",
       "    </tr>\n",
       "    <tr>\n",
       "      <th>1</th>\n",
       "      <td>2008-12-02</td>\n",
       "      <td>Albury</td>\n",
       "      <td>-0.751807</td>\n",
       "      <td>0.239266</td>\n",
       "      <td>-0.278611</td>\n",
       "      <td>WNW</td>\n",
       "      <td>0.316697</td>\n",
       "      <td>NNW</td>\n",
       "      <td>WSW</td>\n",
       "      <td>-1.132443</td>\n",
       "      <td>...</td>\n",
       "      <td>0</td>\n",
       "      <td>0</td>\n",
       "      <td>0</td>\n",
       "      <td>0</td>\n",
       "      <td>0</td>\n",
       "      <td>0</td>\n",
       "      <td>0</td>\n",
       "      <td>0</td>\n",
       "      <td>1</td>\n",
       "      <td>0</td>\n",
       "    </tr>\n",
       "    <tr>\n",
       "      <th>2</th>\n",
       "      <td>2008-12-03</td>\n",
       "      <td>Albury</td>\n",
       "      <td>0.109050</td>\n",
       "      <td>0.323914</td>\n",
       "      <td>-0.278611</td>\n",
       "      <td>WSW</td>\n",
       "      <td>0.469017</td>\n",
       "      <td>W</td>\n",
       "      <td>WSW</td>\n",
       "      <td>0.565677</td>\n",
       "      <td>...</td>\n",
       "      <td>0</td>\n",
       "      <td>0</td>\n",
       "      <td>0</td>\n",
       "      <td>0</td>\n",
       "      <td>0</td>\n",
       "      <td>0</td>\n",
       "      <td>0</td>\n",
       "      <td>0</td>\n",
       "      <td>0</td>\n",
       "      <td>1</td>\n",
       "    </tr>\n",
       "    <tr>\n",
       "      <th>3</th>\n",
       "      <td>2008-12-04</td>\n",
       "      <td>Albury</td>\n",
       "      <td>-0.470072</td>\n",
       "      <td>0.648400</td>\n",
       "      <td>-0.278611</td>\n",
       "      <td>NE</td>\n",
       "      <td>-1.206504</td>\n",
       "      <td>SE</td>\n",
       "      <td>E</td>\n",
       "      <td>-0.339987</td>\n",
       "      <td>...</td>\n",
       "      <td>0</td>\n",
       "      <td>0</td>\n",
       "      <td>0</td>\n",
       "      <td>0</td>\n",
       "      <td>0</td>\n",
       "      <td>0</td>\n",
       "      <td>0</td>\n",
       "      <td>0</td>\n",
       "      <td>0</td>\n",
       "      <td>0</td>\n",
       "    </tr>\n",
       "    <tr>\n",
       "      <th>4</th>\n",
       "      <td>2008-12-05</td>\n",
       "      <td>Albury</td>\n",
       "      <td>0.829040</td>\n",
       "      <td>1.255046</td>\n",
       "      <td>-0.157554</td>\n",
       "      <td>W</td>\n",
       "      <td>0.088217</td>\n",
       "      <td>ENE</td>\n",
       "      <td>NW</td>\n",
       "      <td>-0.792819</td>\n",
       "      <td>...</td>\n",
       "      <td>0</td>\n",
       "      <td>0</td>\n",
       "      <td>0</td>\n",
       "      <td>0</td>\n",
       "      <td>0</td>\n",
       "      <td>0</td>\n",
       "      <td>0</td>\n",
       "      <td>1</td>\n",
       "      <td>0</td>\n",
       "      <td>0</td>\n",
       "    </tr>\n",
       "  </tbody>\n",
       "</table>\n",
       "<p>5 rows × 67 columns</p>\n",
       "</div>"
      ],
      "text/plain": [
       "         Date Location   MinTemp   MaxTemp  Rainfall WindGustDir  \\\n",
       "0  2008-12-01   Albury  0.187310 -0.071111 -0.205977           W   \n",
       "1  2008-12-02   Albury -0.751807  0.239266 -0.278611         WNW   \n",
       "2  2008-12-03   Albury  0.109050  0.323914 -0.278611         WSW   \n",
       "3  2008-12-04   Albury -0.470072  0.648400 -0.278611          NE   \n",
       "4  2008-12-05   Albury  0.829040  1.255046 -0.157554           W   \n",
       "\n",
       "   WindGustSpeed WindDir9am WindDir3pm  WindSpeed9am  ...  NNW  NW  S  SE  \\\n",
       "0       0.316697          W        WNW      0.678885  ...    0   0  0   0   \n",
       "1       0.316697        NNW        WSW     -1.132443  ...    0   0  0   0   \n",
       "2       0.469017          W        WSW      0.565677  ...    0   0  0   0   \n",
       "3      -1.206504         SE          E     -0.339987  ...    0   0  0   0   \n",
       "4       0.088217        ENE         NW     -0.792819  ...    0   0  0   0   \n",
       "\n",
       "   SSE  SSW  SW  W  WNW  WSW  \n",
       "0    0    0   0  1    0    0  \n",
       "1    0    0   0  0    1    0  \n",
       "2    0    0   0  0    0    1  \n",
       "3    0    0   0  0    0    0  \n",
       "4    0    0   0  1    0    0  \n",
       "\n",
       "[5 rows x 67 columns]"
      ]
     },
     "execution_count": 259,
     "metadata": {},
     "output_type": "execute_result"
    }
   ],
   "source": [
    "raindf.head()"
   ]
  },
  {
   "cell_type": "code",
   "execution_count": 260,
   "metadata": {},
   "outputs": [],
   "source": [
    "raindf['Date'] = pd.to_datetime(raindf['Date'])"
   ]
  },
  {
   "cell_type": "code",
   "execution_count": 261,
   "metadata": {},
   "outputs": [
    {
     "data": {
      "text/html": [
       "<div>\n",
       "<style scoped>\n",
       "    .dataframe tbody tr th:only-of-type {\n",
       "        vertical-align: middle;\n",
       "    }\n",
       "\n",
       "    .dataframe tbody tr th {\n",
       "        vertical-align: top;\n",
       "    }\n",
       "\n",
       "    .dataframe thead th {\n",
       "        text-align: right;\n",
       "    }\n",
       "</style>\n",
       "<table border=\"1\" class=\"dataframe\">\n",
       "  <thead>\n",
       "    <tr style=\"text-align: right;\">\n",
       "      <th></th>\n",
       "      <th>Date</th>\n",
       "      <th>Location</th>\n",
       "      <th>MinTemp</th>\n",
       "      <th>MaxTemp</th>\n",
       "      <th>Rainfall</th>\n",
       "      <th>WindGustDir</th>\n",
       "      <th>WindGustSpeed</th>\n",
       "      <th>WindDir9am</th>\n",
       "      <th>WindDir3pm</th>\n",
       "      <th>WindSpeed9am</th>\n",
       "      <th>...</th>\n",
       "      <th>NNW</th>\n",
       "      <th>NW</th>\n",
       "      <th>S</th>\n",
       "      <th>SE</th>\n",
       "      <th>SSE</th>\n",
       "      <th>SSW</th>\n",
       "      <th>SW</th>\n",
       "      <th>W</th>\n",
       "      <th>WNW</th>\n",
       "      <th>WSW</th>\n",
       "    </tr>\n",
       "  </thead>\n",
       "  <tbody>\n",
       "    <tr>\n",
       "      <th>0</th>\n",
       "      <td>2008-12-01</td>\n",
       "      <td>Albury</td>\n",
       "      <td>0.187310</td>\n",
       "      <td>-0.071111</td>\n",
       "      <td>-0.205977</td>\n",
       "      <td>W</td>\n",
       "      <td>0.316697</td>\n",
       "      <td>W</td>\n",
       "      <td>WNW</td>\n",
       "      <td>0.678885</td>\n",
       "      <td>...</td>\n",
       "      <td>0</td>\n",
       "      <td>0</td>\n",
       "      <td>0</td>\n",
       "      <td>0</td>\n",
       "      <td>0</td>\n",
       "      <td>0</td>\n",
       "      <td>0</td>\n",
       "      <td>1</td>\n",
       "      <td>0</td>\n",
       "      <td>0</td>\n",
       "    </tr>\n",
       "    <tr>\n",
       "      <th>1</th>\n",
       "      <td>2008-12-02</td>\n",
       "      <td>Albury</td>\n",
       "      <td>-0.751807</td>\n",
       "      <td>0.239266</td>\n",
       "      <td>-0.278611</td>\n",
       "      <td>WNW</td>\n",
       "      <td>0.316697</td>\n",
       "      <td>NNW</td>\n",
       "      <td>WSW</td>\n",
       "      <td>-1.132443</td>\n",
       "      <td>...</td>\n",
       "      <td>0</td>\n",
       "      <td>0</td>\n",
       "      <td>0</td>\n",
       "      <td>0</td>\n",
       "      <td>0</td>\n",
       "      <td>0</td>\n",
       "      <td>0</td>\n",
       "      <td>0</td>\n",
       "      <td>1</td>\n",
       "      <td>0</td>\n",
       "    </tr>\n",
       "    <tr>\n",
       "      <th>2</th>\n",
       "      <td>2008-12-03</td>\n",
       "      <td>Albury</td>\n",
       "      <td>0.109050</td>\n",
       "      <td>0.323914</td>\n",
       "      <td>-0.278611</td>\n",
       "      <td>WSW</td>\n",
       "      <td>0.469017</td>\n",
       "      <td>W</td>\n",
       "      <td>WSW</td>\n",
       "      <td>0.565677</td>\n",
       "      <td>...</td>\n",
       "      <td>0</td>\n",
       "      <td>0</td>\n",
       "      <td>0</td>\n",
       "      <td>0</td>\n",
       "      <td>0</td>\n",
       "      <td>0</td>\n",
       "      <td>0</td>\n",
       "      <td>0</td>\n",
       "      <td>0</td>\n",
       "      <td>1</td>\n",
       "    </tr>\n",
       "    <tr>\n",
       "      <th>3</th>\n",
       "      <td>2008-12-04</td>\n",
       "      <td>Albury</td>\n",
       "      <td>-0.470072</td>\n",
       "      <td>0.648400</td>\n",
       "      <td>-0.278611</td>\n",
       "      <td>NE</td>\n",
       "      <td>-1.206504</td>\n",
       "      <td>SE</td>\n",
       "      <td>E</td>\n",
       "      <td>-0.339987</td>\n",
       "      <td>...</td>\n",
       "      <td>0</td>\n",
       "      <td>0</td>\n",
       "      <td>0</td>\n",
       "      <td>0</td>\n",
       "      <td>0</td>\n",
       "      <td>0</td>\n",
       "      <td>0</td>\n",
       "      <td>0</td>\n",
       "      <td>0</td>\n",
       "      <td>0</td>\n",
       "    </tr>\n",
       "    <tr>\n",
       "      <th>4</th>\n",
       "      <td>2008-12-05</td>\n",
       "      <td>Albury</td>\n",
       "      <td>0.829040</td>\n",
       "      <td>1.255046</td>\n",
       "      <td>-0.157554</td>\n",
       "      <td>W</td>\n",
       "      <td>0.088217</td>\n",
       "      <td>ENE</td>\n",
       "      <td>NW</td>\n",
       "      <td>-0.792819</td>\n",
       "      <td>...</td>\n",
       "      <td>0</td>\n",
       "      <td>0</td>\n",
       "      <td>0</td>\n",
       "      <td>0</td>\n",
       "      <td>0</td>\n",
       "      <td>0</td>\n",
       "      <td>0</td>\n",
       "      <td>1</td>\n",
       "      <td>0</td>\n",
       "      <td>0</td>\n",
       "    </tr>\n",
       "  </tbody>\n",
       "</table>\n",
       "<p>5 rows × 67 columns</p>\n",
       "</div>"
      ],
      "text/plain": [
       "        Date Location   MinTemp   MaxTemp  Rainfall WindGustDir  \\\n",
       "0 2008-12-01   Albury  0.187310 -0.071111 -0.205977           W   \n",
       "1 2008-12-02   Albury -0.751807  0.239266 -0.278611         WNW   \n",
       "2 2008-12-03   Albury  0.109050  0.323914 -0.278611         WSW   \n",
       "3 2008-12-04   Albury -0.470072  0.648400 -0.278611          NE   \n",
       "4 2008-12-05   Albury  0.829040  1.255046 -0.157554           W   \n",
       "\n",
       "   WindGustSpeed WindDir9am WindDir3pm  WindSpeed9am  ...  NNW  NW  S  SE  \\\n",
       "0       0.316697          W        WNW      0.678885  ...    0   0  0   0   \n",
       "1       0.316697        NNW        WSW     -1.132443  ...    0   0  0   0   \n",
       "2       0.469017          W        WSW      0.565677  ...    0   0  0   0   \n",
       "3      -1.206504         SE          E     -0.339987  ...    0   0  0   0   \n",
       "4       0.088217        ENE         NW     -0.792819  ...    0   0  0   0   \n",
       "\n",
       "   SSE  SSW  SW  W  WNW  WSW  \n",
       "0    0    0   0  1    0    0  \n",
       "1    0    0   0  0    1    0  \n",
       "2    0    0   0  0    0    1  \n",
       "3    0    0   0  0    0    0  \n",
       "4    0    0   0  1    0    0  \n",
       "\n",
       "[5 rows x 67 columns]"
      ]
     },
     "execution_count": 261,
     "metadata": {},
     "output_type": "execute_result"
    }
   ],
   "source": [
    "raindf.head()"
   ]
  },
  {
   "cell_type": "markdown",
   "metadata": {},
   "source": [
    "wykorzystując sklearn.linear_model.LogisticRegression, dla każdego z regionów naucz model przewidujący jutrzejsza pogodę 'RainTomorrow'"
   ]
  },
  {
   "cell_type": "code",
   "execution_count": 287,
   "metadata": {},
   "outputs": [],
   "source": [
    "from sklearn.linear_model import LogisticRegression\n",
    "from sklearn.model_selection import train_test_split\n",
    "from sklearn import metrics\n",
    "import seaborn as sn\n",
    "import matplotlib.pyplot as plt\n",
    "import operator"
   ]
  },
  {
   "cell_type": "code",
   "execution_count": 263,
   "metadata": {},
   "outputs": [],
   "source": [
    "lokalizacje = pd.unique(raindf['Location'])"
   ]
  },
  {
   "cell_type": "code",
   "execution_count": 273,
   "metadata": {},
   "outputs": [
    {
     "data": {
      "text/plain": [
       "array(['Albury', 'BadgerysCreek', 'Cobar', 'CoffsHarbour', 'Moree',\n",
       "       'Newcastle', 'NorahHead', 'NorfolkIsland', 'Penrith', 'Richmond',\n",
       "       'Sydney', 'SydneyAirport', 'WaggaWagga', 'Williamtown',\n",
       "       'Wollongong', 'Canberra', 'Tuggeranong', 'MountGinini', 'Ballarat',\n",
       "       'Bendigo', 'Sale', 'MelbourneAirport', 'Melbourne', 'Mildura',\n",
       "       'Nhil', 'Portland', 'Watsonia', 'Dartmoor', 'Brisbane', 'Cairns',\n",
       "       'GoldCoast', 'Townsville', 'Adelaide', 'MountGambier', 'Nuriootpa',\n",
       "       'Woomera', 'Albany', 'Witchcliffe', 'PearceRAAF', 'PerthAirport',\n",
       "       'Perth', 'SalmonGums', 'Walpole', 'Hobart', 'Launceston',\n",
       "       'AliceSprings', 'Darwin', 'Katherine', 'Uluru'], dtype=object)"
      ]
     },
     "execution_count": 273,
     "metadata": {},
     "output_type": "execute_result"
    }
   ],
   "source": [
    "lokalizacje"
   ]
  },
  {
   "cell_type": "markdown",
   "metadata": {},
   "source": [
    "Regresja logistyczna"
   ]
  },
  {
   "cell_type": "markdown",
   "metadata": {},
   "source": [
    "Dla wszystkich lokazlizacji"
   ]
  },
  {
   "cell_type": "code",
   "execution_count": 284,
   "metadata": {},
   "outputs": [
    {
     "name": "stdout",
     "output_type": "stream",
     "text": [
      "Albury\n",
      "Accuracy:  0.9434782608695652\n"
     ]
    },
    {
     "data": {
      "image/png": "[encoded data removed]",
      "text/plain": [
       "<Figure size 432x288 with 2 Axes>"
      ]
     },
     "metadata": {
      "needs_background": "light"
     },
     "output_type": "display_data"
    },
    {
     "name": "stdout",
     "output_type": "stream",
     "text": [
      "BadgerysCreek\n",
      "Accuracy:  0.8954248366013072\n"
     ]
    },
    {
     "data": {
      "image/png": "[encoded data removed]",
      "text/plain": [
       "<Figure size 432x288 with 2 Axes>"
      ]
     },
     "metadata": {
      "needs_background": "light"
     },
     "output_type": "display_data"
    },
    {
     "name": "stdout",
     "output_type": "stream",
     "text": [
      "Cobar\n",
      "Accuracy:  0.9195171026156942\n"
     ]
    },
    {
     "data": {
      "image/png": "[encoded data removed]",
      "text/plain": [
       "<Figure size 432x288 with 2 Axes>"
      ]
     },
     "metadata": {
      "needs_background": "light"
     },
     "output_type": "display_data"
    },
    {
     "name": "stdout",
     "output_type": "stream",
     "text": [
      "CoffsHarbour\n",
      "Accuracy:  0.8048192771084337\n"
     ]
    },
    {
     "data": {
      "image/png": "[encoded data removed]",
      "text/plain": [
       "<Figure size 432x288 with 2 Axes>"
      ]
     },
     "metadata": {
      "needs_background": "light"
     },
     "output_type": "display_data"
    },
    {
     "name": "stdout",
     "output_type": "stream",
     "text": [
      "Moree\n",
      "Accuracy:  0.9055793991416309\n"
     ]
    },
    {
     "data": {
      "image/png": "[encoded data removed]",
      "text/plain": [
       "<Figure size 432x288 with 2 Axes>"
      ]
     },
     "metadata": {
      "needs_background": "light"
     },
     "output_type": "display_data"
    },
    {
     "name": "stdout",
     "output_type": "stream",
     "text": [
      "Newcastle\n",
      "Accuracy:  0.7885572139303483\n"
     ]
    },
    {
     "data": {
      "image/png": "[encoded data removed]",
      "text/plain": [
       "<Figure size 432x288 with 2 Axes>"
      ]
     },
     "metadata": {
      "needs_background": "light"
     },
     "output_type": "display_data"
    },
    {
     "name": "stdout",
     "output_type": "stream",
     "text": [
      "NorahHead\n",
      "Accuracy:  0.8033175355450237\n"
     ]
    },
    {
     "data": {
      "image/png": "[encoded data removed]",
      "text/plain": [
       "<Figure size 432x288 with 2 Axes>"
      ]
     },
     "metadata": {
      "needs_background": "light"
     },
     "output_type": "display_data"
    },
    {
     "name": "stdout",
     "output_type": "stream",
     "text": [
      "NorfolkIsland\n",
      "Accuracy:  0.78239608801956\n"
     ]
    },
    {
     "data": {
      "image/png": "[encoded data removed]",
      "text/plain": [
       "<Figure size 432x288 with 2 Axes>"
      ]
     },
     "metadata": {
      "needs_background": "light"
     },
     "output_type": "display_data"
    },
    {
     "name": "stdout",
     "output_type": "stream",
     "text": [
      "Penrith\n",
      "Accuracy:  0.9086651053864169\n"
     ]
    },
    {
     "data": {
      "image/png": "[encoded data removed]",
      "text/plain": [
       "<Figure size 432x288 with 2 Axes>"
      ]
     },
     "metadata": {
      "needs_background": "light"
     },
     "output_type": "display_data"
    },
    {
     "name": "stdout",
     "output_type": "stream",
     "text": [
      "Richmond\n",
      "Accuracy:  0.8641686182669789\n"
     ]
    },
    {
     "data": {
      "image/png": "[encoded data removed]",
      "text/plain": [
       "<Figure size 432x288 with 2 Axes>"
      ]
     },
     "metadata": {
      "needs_background": "light"
     },
     "output_type": "display_data"
    },
    {
     "name": "stdout",
     "output_type": "stream",
     "text": [
      "Sydney\n",
      "Accuracy:  0.817351598173516\n"
     ]
    },
    {
     "data": {
      "image/png": "[encoded data removed]",
      "text/plain": [
       "<Figure size 432x288 with 2 Axes>"
      ]
     },
     "metadata": {
      "needs_background": "light"
     },
     "output_type": "display_data"
    },
    {
     "name": "stdout",
     "output_type": "stream",
     "text": [
      "SydneyAirport\n",
      "Accuracy:  0.844559585492228\n"
     ]
    },
    {
     "data": {
      "image/png": "[encoded data removed]",
      "text/plain": [
       "<Figure size 432x288 with 2 Axes>"
      ]
     },
     "metadata": {
      "needs_background": "light"
     },
     "output_type": "display_data"
    },
    {
     "name": "stdout",
     "output_type": "stream",
     "text": [
      "WaggaWagga\n",
      "Accuracy:  0.8901601830663616\n"
     ]
    },
    {
     "data": {
      "image/png": "[encoded data removed]",
      "text/plain": [
       "<Figure size 432x288 with 2 Axes>"
      ]
     },
     "metadata": {
      "needs_background": "light"
     },
     "output_type": "display_data"
    },
    {
     "name": "stdout",
     "output_type": "stream",
     "text": [
      "Williamtown\n",
      "Accuracy:  0.838150289017341\n"
     ]
    },
    {
     "data": {
      "image/png": "[encoded data removed]",
      "text/plain": [
       "<Figure size 432x288 with 2 Axes>"
      ]
     },
     "metadata": {
      "needs_background": "light"
     },
     "output_type": "display_data"
    },
    {
     "name": "stdout",
     "output_type": "stream",
     "text": [
      "Wollongong\n",
      "Accuracy:  0.8354755784061697\n"
     ]
    },
    {
     "data": {
      "image/png": "[encoded data removed]",
      "text/plain": [
       "<Figure size 432x288 with 2 Axes>"
      ]
     },
     "metadata": {
      "needs_background": "light"
     },
     "output_type": "display_data"
    },
    {
     "name": "stdout",
     "output_type": "stream",
     "text": [
      "Canberra\n",
      "Accuracy:  0.848421052631579\n"
     ]
    },
    {
     "data": {
      "image/png": "[encoded data removed]",
      "text/plain": [
       "<Figure size 432x288 with 2 Axes>"
      ]
     },
     "metadata": {
      "needs_background": "light"
     },
     "output_type": "display_data"
    },
    {
     "name": "stdout",
     "output_type": "stream",
     "text": [
      "Tuggeranong\n",
      "Accuracy:  0.9041095890410958\n"
     ]
    },
    {
     "data": {
      "image/png": "[encoded data removed]",
      "text/plain": [
       "<Figure size 432x288 with 2 Axes>"
      ]
     },
     "metadata": {
      "needs_background": "light"
     },
     "output_type": "display_data"
    },
    {
     "name": "stdout",
     "output_type": "stream",
     "text": [
      "MountGinini\n",
      "Accuracy:  0.8095238095238095\n"
     ]
    },
    {
     "data": {
      "image/png": "[encoded data removed]",
      "text/plain": [
       "<Figure size 432x288 with 2 Axes>"
      ]
     },
     "metadata": {
      "needs_background": "light"
     },
     "output_type": "display_data"
    },
    {
     "name": "stdout",
     "output_type": "stream",
     "text": [
      "Ballarat\n",
      "Accuracy:  0.829683698296837\n"
     ]
    },
    {
     "data": {
      "image/png": "[encoded data removed]",
      "text/plain": [
       "<Figure size 432x288 with 2 Axes>"
      ]
     },
     "metadata": {
      "needs_background": "light"
     },
     "output_type": "display_data"
    },
    {
     "name": "stdout",
     "output_type": "stream",
     "text": [
      "Bendigo\n",
      "Accuracy:  0.8952164009111617\n"
     ]
    },
    {
     "data": {
      "image/png": "[encoded data removed]",
      "text/plain": [
       "<Figure size 432x288 with 2 Axes>"
      ]
     },
     "metadata": {
      "needs_background": "light"
     },
     "output_type": "display_data"
    },
    {
     "name": "stdout",
     "output_type": "stream",
     "text": [
      "Sale\n",
      "Accuracy:  0.8047722342733189\n"
     ]
    },
    {
     "data": {
      "image/png": "[encoded data removed]",
      "text/plain": [
       "<Figure size 432x288 with 2 Axes>"
      ]
     },
     "metadata": {
      "needs_background": "light"
     },
     "output_type": "display_data"
    },
    {
     "name": "stdout",
     "output_type": "stream",
     "text": [
      "MelbourneAirport\n",
      "Accuracy:  0.8273684210526315\n"
     ]
    },
    {
     "data": {
      "image/png": "[encoded data removed]",
      "text/plain": [
       "<Figure size 432x288 with 2 Axes>"
      ]
     },
     "metadata": {
      "needs_background": "light"
     },
     "output_type": "display_data"
    },
    {
     "name": "stdout",
     "output_type": "stream",
     "text": [
      "Melbourne\n",
      "Accuracy:  0.8051575931232091\n"
     ]
    },
    {
     "data": {
      "image/png": "[encoded data removed]",
      "text/plain": [
       "<Figure size 432x288 with 2 Axes>"
      ]
     },
     "metadata": {
      "needs_background": "light"
     },
     "output_type": "display_data"
    },
    {
     "name": "stdout",
     "output_type": "stream",
     "text": [
      "Mildura\n",
      "Accuracy:  0.9032921810699589\n"
     ]
    },
    {
     "data": {
      "image/png": "[encoded data removed]",
      "text/plain": [
       "<Figure size 432x288 with 2 Axes>"
      ]
     },
     "metadata": {
      "needs_background": "light"
     },
     "output_type": "display_data"
    },
    {
     "name": "stdout",
     "output_type": "stream",
     "text": [
      "Nhil\n",
      "Accuracy:  0.8958333333333334\n"
     ]
    },
    {
     "data": {
      "image/png": "[encoded data removed]",
      "text/plain": [
       "<Figure size 432x288 with 2 Axes>"
      ]
     },
     "metadata": {
      "needs_background": "light"
     },
     "output_type": "display_data"
    },
    {
     "name": "stdout",
     "output_type": "stream",
     "text": [
      "Portland\n",
      "Accuracy:  0.7804878048780488\n"
     ]
    },
    {
     "data": {
      "image/png": "[encoded data removed]",
      "text/plain": [
       "<Figure size 432x288 with 2 Axes>"
      ]
     },
     "metadata": {
      "needs_background": "light"
     },
     "output_type": "display_data"
    },
    {
     "name": "stdout",
     "output_type": "stream",
     "text": [
      "Watsonia\n",
      "Accuracy:  0.8623376623376623\n"
     ]
    },
    {
     "data": {
      "image/png": "[encoded data removed]",
      "text/plain": [
       "<Figure size 432x288 with 2 Axes>"
      ]
     },
     "metadata": {
      "needs_background": "light"
     },
     "output_type": "display_data"
    },
    {
     "name": "stdout",
     "output_type": "stream",
     "text": [
      "Dartmoor\n",
      "Accuracy:  0.8597883597883598\n"
     ]
    },
    {
     "data": {
      "image/png": "[encoded data removed]",
      "text/plain": [
       "<Figure size 432x288 with 2 Axes>"
      ]
     },
     "metadata": {
      "needs_background": "light"
     },
     "output_type": "display_data"
    },
    {
     "name": "stdout",
     "output_type": "stream",
     "text": [
      "Brisbane\n",
      "Accuracy:  0.8463203463203464\n"
     ]
    },
    {
     "data": {
      "image/png": "[encoded data removed]",
      "text/plain": [
       "<Figure size 432x288 with 2 Axes>"
      ]
     },
     "metadata": {
      "needs_background": "light"
     },
     "output_type": "display_data"
    },
    {
     "name": "stdout",
     "output_type": "stream",
     "text": [
      "Cairns\n",
      "Accuracy:  0.8329177057356608\n"
     ]
    },
    {
     "data": {
      "image/png": "[encoded data removed]",
      "text/plain": [
       "<Figure size 432x288 with 2 Axes>"
      ]
     },
     "metadata": {
      "needs_background": "light"
     },
     "output_type": "display_data"
    },
    {
     "name": "stdout",
     "output_type": "stream",
     "text": [
      "GoldCoast\n",
      "Accuracy:  0.8735632183908046\n"
     ]
    },
    {
     "data": {
      "image/png": "[encoded data removed]",
      "text/plain": [
       "<Figure size 432x288 with 2 Axes>"
      ]
     },
     "metadata": {
      "needs_background": "light"
     },
     "output_type": "display_data"
    },
    {
     "name": "stdout",
     "output_type": "stream",
     "text": [
      "Townsville\n",
      "Accuracy:  0.8859649122807017\n"
     ]
    },
    {
     "data": {
      "image/png": "[encoded data removed]",
      "text/plain": [
       "<Figure size 432x288 with 2 Axes>"
      ]
     },
     "metadata": {
      "needs_background": "light"
     },
     "output_type": "display_data"
    },
    {
     "name": "stdout",
     "output_type": "stream",
     "text": [
      "Adelaide\n",
      "Accuracy:  0.8571428571428571\n"
     ]
    },
    {
     "data": {
      "image/png": "[encoded data removed]",
      "text/plain": [
       "<Figure size 432x288 with 2 Axes>"
      ]
     },
     "metadata": {
      "needs_background": "light"
     },
     "output_type": "display_data"
    },
    {
     "name": "stdout",
     "output_type": "stream",
     "text": [
      "MountGambier\n",
      "Accuracy:  0.8308823529411765\n"
     ]
    },
    {
     "data": {
      "image/png": "[encoded data removed]",
      "text/plain": [
       "<Figure size 432x288 with 2 Axes>"
      ]
     },
     "metadata": {
      "needs_background": "light"
     },
     "output_type": "display_data"
    },
    {
     "name": "stdout",
     "output_type": "stream",
     "text": [
      "Nuriootpa\n",
      "Accuracy:  0.8929503916449086\n"
     ]
    },
    {
     "data": {
      "image/png": "[encoded data removed]",
      "text/plain": [
       "<Figure size 432x288 with 2 Axes>"
      ]
     },
     "metadata": {
      "needs_background": "light"
     },
     "output_type": "display_data"
    },
    {
     "name": "stdout",
     "output_type": "stream",
     "text": [
      "Woomera\n",
      "Accuracy:  0.9460500963391136\n"
     ]
    },
    {
     "data": {
      "image/png": "[encoded data removed]",
      "text/plain": [
       "<Figure size 432x288 with 2 Axes>"
      ]
     },
     "metadata": {
      "needs_background": "light"
     },
     "output_type": "display_data"
    },
    {
     "name": "stdout",
     "output_type": "stream",
     "text": [
      "Albany\n",
      "Accuracy:  0.7664233576642335\n"
     ]
    },
    {
     "data": {
      "image/png": "[encoded data removed]",
      "text/plain": [
       "<Figure size 432x288 with 2 Axes>"
      ]
     },
     "metadata": {
      "needs_background": "light"
     },
     "output_type": "display_data"
    },
    {
     "name": "stdout",
     "output_type": "stream",
     "text": [
      "Witchcliffe\n",
      "Accuracy:  0.8574712643678161\n"
     ]
    },
    {
     "data": {
      "image/png": "[encoded data removed]",
      "text/plain": [
       "<Figure size 432x288 with 2 Axes>"
      ]
     },
     "metadata": {
      "needs_background": "light"
     },
     "output_type": "display_data"
    },
    {
     "name": "stdout",
     "output_type": "stream",
     "text": [
      "PearceRAAF\n",
      "Accuracy:  0.8967032967032967\n"
     ]
    },
    {
     "data": {
      "image/png": "[encoded data removed]",
      "text/plain": [
       "<Figure size 432x288 with 2 Axes>"
      ]
     },
     "metadata": {
      "needs_background": "light"
     },
     "output_type": "display_data"
    },
    {
     "name": "stdout",
     "output_type": "stream",
     "text": [
      "PerthAirport\n",
      "Accuracy:  0.9040816326530612\n"
     ]
    },
    {
     "data": {
      "image/png": "[encoded data removed]",
      "text/plain": [
       "<Figure size 432x288 with 2 Axes>"
      ]
     },
     "metadata": {
      "needs_background": "light"
     },
     "output_type": "display_data"
    },
    {
     "name": "stdout",
     "output_type": "stream",
     "text": [
      "Perth\n",
      "Accuracy:  0.9056603773584906\n"
     ]
    },
    {
     "data": {
      "image/png": "[encoded data removed]",
      "text/plain": [
       "<Figure size 432x288 with 2 Axes>"
      ]
     },
     "metadata": {
      "needs_background": "light"
     },
     "output_type": "display_data"
    },
    {
     "name": "stdout",
     "output_type": "stream",
     "text": [
      "SalmonGums\n",
      "Accuracy:  0.8623481781376519\n"
     ]
    },
    {
     "data": {
      "image/png": "[encoded data removed]",
      "text/plain": [
       "<Figure size 432x288 with 2 Axes>"
      ]
     },
     "metadata": {
      "needs_background": "light"
     },
     "output_type": "display_data"
    },
    {
     "name": "stdout",
     "output_type": "stream",
     "text": [
      "Walpole\n",
      "Accuracy:  0.8320802005012531\n"
     ]
    },
    {
     "data": {
      "image/png": "[encoded data removed]",
      "text/plain": [
       "<Figure size 432x288 with 2 Axes>"
      ]
     },
     "metadata": {
      "needs_background": "light"
     },
     "output_type": "display_data"
    },
    {
     "name": "stdout",
     "output_type": "stream",
     "text": [
      "Hobart\n",
      "Accuracy:  0.7865612648221344\n"
     ]
    },
    {
     "data": {
      "image/png": "[encoded data removed]",
      "text/plain": [
       "<Figure size 432x288 with 2 Axes>"
      ]
     },
     "metadata": {
      "needs_background": "light"
     },
     "output_type": "display_data"
    },
    {
     "name": "stdout",
     "output_type": "stream",
     "text": [
      "Launceston\n",
      "Accuracy:  0.8484848484848485\n"
     ]
    },
    {
     "data": {
      "image/png": "[encoded data removed]",
      "text/plain": [
       "<Figure size 432x288 with 2 Axes>"
      ]
     },
     "metadata": {
      "needs_background": "light"
     },
     "output_type": "display_data"
    },
    {
     "name": "stdout",
     "output_type": "stream",
     "text": [
      "AliceSprings\n",
      "Accuracy:  0.9377289377289377\n"
     ]
    },
    {
     "data": {
      "image/png": "[encoded data removed]",
      "text/plain": [
       "<Figure size 432x288 with 2 Axes>"
      ]
     },
     "metadata": {
      "needs_background": "light"
     },
     "output_type": "display_data"
    },
    {
     "name": "stdout",
     "output_type": "stream",
     "text": [
      "Darwin\n",
      "Accuracy:  0.83125\n"
     ]
    },
    {
     "data": {
      "image/png": "[encoded data removed]",
      "text/plain": [
       "<Figure size 432x288 with 2 Axes>"
      ]
     },
     "metadata": {
      "needs_background": "light"
     },
     "output_type": "display_data"
    },
    {
     "name": "stdout",
     "output_type": "stream",
     "text": [
      "Katherine\n",
      "Accuracy:  0.8487084870848709\n"
     ]
    },
    {
     "data": {
      "image/png": "[encoded data removed]",
      "text/plain": [
       "<Figure size 432x288 with 2 Axes>"
      ]
     },
     "metadata": {
      "needs_background": "light"
     },
     "output_type": "display_data"
    },
    {
     "name": "stdout",
     "output_type": "stream",
     "text": [
      "Uluru\n",
      "Accuracy:  0.9305555555555556\n"
     ]
    },
    {
     "data": {
      "image/png": "[encoded data removed]",
      "text/plain": [
       "<Figure size 432x288 with 2 Axes>"
      ]
     },
     "metadata": {
      "needs_background": "light"
     },
     "output_type": "display_data"
    }
   ],
   "source": [
    "accur = {}\n",
    "for lokalizacja in lokalizacje:\n",
    "    raindf_temp = raindf.loc[raindf['Location'] == lokalizacja]\n",
    "    X = raindf_temp[['MinTemp','MaxTemp','Rainfall',\n",
    "    'WindGustSpeed',\n",
    "     'WindSpeed9am',\n",
    "     'WindSpeed3pm',\n",
    "     'Humidity9am',\n",
    "     'Humidity3pm',\n",
    "     'Pressure9am','Pressure3pm','Temp9am', 'Temp3pm', 'RainToday']]\n",
    "    \n",
    "    y = raindf_temp['RainTomorrow']\n",
    "    \n",
    "    x_train, x_test, y_train, y_test = train_test_split(X, y,test_size=0.2,random_state=75)\n",
    "    \n",
    "    logistic_regression= LogisticRegression()\n",
    "    logistic_regression.fit(x_train,y_train)\n",
    "    y_pred=logistic_regression.predict(x_test)\n",
    "    \n",
    "    confusion_matrix = pd.crosstab(y_test, y_pred, rownames=['Actual'], colnames=['Predicted'])\n",
    "    sn.heatmap(confusion_matrix, annot=True)\n",
    "    \n",
    "    accur[lokalizacja] = metrics.accuracy_score(y_test, y_pred)\n",
    "    print(lokalizacja)\n",
    "    print('Accuracy: ',metrics.accuracy_score(y_test, y_pred))\n",
    "    plt.show()"
   ]
  },
  {
   "cell_type": "code",
   "execution_count": 283,
   "metadata": {},
   "outputs": [
    {
     "name": "stdout",
     "output_type": "stream",
     "text": [
      "Albury\n",
      "Accuracy:  0.9434782608695652\n",
      "Accuracy for all locations 0.8155349150584725\n",
      "BadgerysCreek\n",
      "Accuracy:  0.8954248366013072\n",
      "Accuracy for all locations 0.8363251359545695\n",
      "Cobar\n",
      "Accuracy:  0.9195171026156942\n",
      "Accuracy for all locations 0.8112036190384523\n",
      "CoffsHarbour\n",
      "Accuracy:  0.8048192771084337\n",
      "Accuracy for all locations 0.8122623802877905\n",
      "Moree\n",
      "Accuracy:  0.9055793991416309\n",
      "Accuracy for all locations 0.8128398864237932\n",
      "Newcastle\n",
      "Accuracy:  0.7885572139303483\n",
      "Accuracy for all locations 0.8227537417585061\n",
      "NorahHead\n",
      "Accuracy:  0.8033175355450237\n",
      "Accuracy for all locations 0.8263150295971895\n",
      "NorfolkIsland\n",
      "Accuracy:  0.78239608801956\n",
      "Accuracy for all locations 0.7963809615477164\n",
      "Penrith\n",
      "Accuracy:  0.9086651053864169\n",
      "Accuracy for all locations 0.823860628519178\n",
      "Richmond\n",
      "Accuracy:  0.8641686182669789\n",
      "Accuracy for all locations 0.8315125848212137\n",
      "Sydney\n",
      "Accuracy:  0.817351598173516\n",
      "Accuracy for all locations 0.8244862601665143\n",
      "SydneyAirport\n",
      "Accuracy:  0.844559585492228\n",
      "Accuracy for all locations 0.833004475672554\n",
      "WaggaWagga\n",
      "Accuracy:  0.8901601830663616\n",
      "Accuracy for all locations 0.8071610760864334\n",
      "Williamtown\n",
      "Accuracy:  0.838150289017341\n",
      "Accuracy for all locations 0.8190962028971558\n",
      "Wollongong\n",
      "Accuracy:  0.8354755784061697\n",
      "Accuracy for all locations 0.83213821646855\n",
      "Canberra\n",
      "Accuracy:  0.848421052631579\n",
      "Accuracy for all locations 0.8073535781317677\n",
      "Tuggeranong\n",
      "Accuracy:  0.9041095890410958\n",
      "Accuracy for all locations 0.813513643582463\n",
      "MountGinini\n",
      "Accuracy:  0.8095238095238095\n",
      "Accuracy for all locations 0.7872371143943404\n",
      "Ballarat\n",
      "Accuracy:  0.829683698296837\n",
      "Accuracy for all locations 0.8212618509071659\n",
      "Bendigo\n",
      "Accuracy:  0.8952164009111617\n",
      "Accuracy for all locations 0.818855575340488\n",
      "Sale\n",
      "Accuracy:  0.8047722342733189\n",
      "Accuracy for all locations 0.8368063910679051\n",
      "MelbourneAirport\n",
      "Accuracy:  0.8273684210526315\n",
      "Accuracy for all locations 0.830068819481207\n",
      "Melbourne\n",
      "Accuracy:  0.8051575931232091\n",
      "Accuracy for all locations 0.8374320227152413\n",
      "Mildura\n",
      "Accuracy:  0.9032921810699589\n",
      "Accuracy for all locations 0.7920496655276962\n",
      "Nhil\n",
      "Accuracy:  0.8958333333333334\n",
      "Accuracy for all locations 0.8233793734058424\n",
      "Portland\n",
      "Accuracy:  0.7804878048780488\n",
      "Accuracy for all locations 0.8229462438038404\n",
      "Watsonia\n",
      "Accuracy:  0.8623376623376623\n",
      "Accuracy for all locations 0.837576399249242\n",
      "Dartmoor\n",
      "Accuracy:  0.8597883597883598\n",
      "Accuracy for all locations 0.8284806776071996\n",
      "Brisbane\n",
      "Accuracy:  0.8463203463203464\n",
      "Accuracy for all locations 0.8237643774965109\n",
      "Cairns\n",
      "Accuracy:  0.8329177057356608\n",
      "Accuracy for all locations 0.8192405794311565\n",
      "GoldCoast\n",
      "Accuracy:  0.8735632183908046\n",
      "Accuracy for all locations 0.8334857307858896\n",
      "Townsville\n",
      "Accuracy:  0.8859649122807017\n",
      "Accuracy for all locations 0.8187111988064874\n",
      "Adelaide\n",
      "Accuracy:  0.8571428571428571\n",
      "Accuracy for all locations 0.8191443284084894\n",
      "MountGambier\n",
      "Accuracy:  0.8308823529411765\n",
      "Accuracy for all locations 0.8302613215265412\n",
      "Nuriootpa\n",
      "Accuracy:  0.8929503916449086\n",
      "Accuracy for all locations 0.8307907021512103\n",
      "Woomera\n",
      "Accuracy:  0.9460500963391136\n",
      "Accuracy for all locations 0.8269887867558593\n",
      "Albany\n",
      "Accuracy:  0.7664233576642335\n",
      "Accuracy for all locations 0.7873333654170076\n",
      "Witchcliffe\n",
      "Accuracy:  0.8574712643678161\n",
      "Accuracy for all locations 0.8124067568217912\n",
      "PearceRAAF\n",
      "Accuracy:  0.8967032967032967\n",
      "Accuracy for all locations 0.7935415563790366\n",
      "PerthAirport\n",
      "Accuracy:  0.9040816326530612\n",
      "Accuracy for all locations 0.7953222002983782\n",
      "Perth\n",
      "Accuracy:  0.9056603773584906\n",
      "Accuracy for all locations 0.7946003176283748\n",
      "SalmonGums\n",
      "Accuracy:  0.8623481781376519\n",
      "Accuracy for all locations 0.8198180855671592\n",
      "Walpole\n",
      "Accuracy:  0.8320802005012531\n",
      "Accuracy for all locations 0.8137542711391309\n",
      "Hobart\n",
      "Accuracy:  0.7865612648221344\n",
      "Accuracy for all locations 0.8315607103325473\n",
      "Launceston\n",
      "Accuracy:  0.8484848484848485\n",
      "Accuracy for all locations 0.8338226093652245\n",
      "AliceSprings\n",
      "Accuracy:  0.9377289377289377\n",
      "Accuracy for all locations 0.8342557389672265\n",
      "Darwin\n",
      "Accuracy:  0.83125\n",
      "Accuracy for all locations 0.8187593243178208\n",
      "Katherine\n",
      "Accuracy:  0.8487084870848709\n",
      "Accuracy for all locations 0.8206843447711631\n",
      "Uluru\n",
      "Accuracy:  0.9305555555555556\n",
      "Accuracy for all locations 0.8114923721064536\n"
     ]
    }
   ],
   "source": [
    "wyniki_dla_wszystkich = {}\n",
    "for lokalizacja in lokalizacje:\n",
    "    raindf_temp = raindf.loc[raindf['Location'] == lokalizacja]\n",
    "    X_all = raindf[['MinTemp','MaxTemp','Rainfall',\n",
    "    'WindGustSpeed',\n",
    "     'WindSpeed9am',\n",
    "     'WindSpeed3pm',\n",
    "     'Humidity9am',\n",
    "     'Humidity3pm',\n",
    "     'Pressure9am','Pressure3pm','Temp9am', 'Temp3pm', 'RainToday']]\n",
    "    X = raindf_temp[['MinTemp','MaxTemp','Rainfall',\n",
    "    'WindGustSpeed',\n",
    "     'WindSpeed9am',\n",
    "     'WindSpeed3pm',\n",
    "     'Humidity9am',\n",
    "     'Humidity3pm',\n",
    "     'Pressure9am','Pressure3pm','Temp9am', 'Temp3pm', 'RainToday']]\n",
    "    \n",
    "    y = raindf_temp['RainTomorrow']\n",
    "    y_all = raindf['RainTomorrow']\n",
    "    \n",
    "    x_train, x_test, y_train, y_test = train_test_split(X, y,test_size=0.2,random_state=75)\n",
    "    x_trainA, x_testA, y_trainA, y_testA = train_test_split(X_all, y_all,test_size=0.2,random_state=75)\n",
    "\n",
    "    \n",
    "    logistic_regression= LogisticRegression()\n",
    "    \n",
    "    logistic_regression.fit(x_train,y_train)\n",
    "\n",
    "    y_pred = logistic_regression.predict(x_test)\n",
    "    y_predA = logistic_regression.predict(x_testA)\n",
    "    \n",
    "    print(lokalizacja)\n",
    "    print('Accuracy: ',metrics.accuracy_score(y_test, y_pred))\n",
    "    print('Accuracy for all locations',metrics.accuracy_score(y_testA, y_predA))\n",
    "    wyniki_dla_wszystkich[lokalizacja] = metrics.accuracy_score(y_testA, y_predA)\n"
   ]
  },
  {
   "cell_type": "markdown",
   "metadata": {},
   "source": [
    "Najlepiej przywidujący model według lokalizacji"
   ]
  },
  {
   "cell_type": "code",
   "execution_count": 288,
   "metadata": {},
   "outputs": [
    {
     "data": {
      "text/plain": [
       "'Woomera'"
      ]
     },
     "execution_count": 288,
     "metadata": {},
     "output_type": "execute_result"
    }
   ],
   "source": [
    "max(accur.items(), key=operator.itemgetter(1))[0]"
   ]
  },
  {
   "cell_type": "markdown",
   "metadata": {},
   "source": [
    "Najlepiej przewidujący model dla wszystkich lokalizacji wyuczony na jednej lokalizacji"
   ]
  },
  {
   "cell_type": "code",
   "execution_count": 289,
   "metadata": {},
   "outputs": [
    {
     "data": {
      "text/plain": [
       "'Watsonia'"
      ]
     },
     "execution_count": 289,
     "metadata": {},
     "output_type": "execute_result"
    }
   ],
   "source": [
    "max(wyniki_dla_wszystkich.items(), key=operator.itemgetter(1))[0]"
   ]
  },
  {
   "cell_type": "markdown",
   "metadata": {},
   "source": [
    "Z powyższych wynika, że model który ma najlepszą skuteczność dla całego obszaru, nie ma najlepszej skueczności w swoim "
   ]
  },
  {
   "cell_type": "code",
   "execution_count": 291,
   "metadata": {},
   "outputs": [
    {
     "name": "stdout",
     "output_type": "stream",
     "text": [
      "Accuracy:  0.9460500963391136\n"
     ]
    },
    {
     "data": {
      "image/png": "[encoded data removed]",
      "text/plain": [
       "<Figure size 432x288 with 2 Axes>"
      ]
     },
     "metadata": {
      "needs_background": "light"
     },
     "output_type": "display_data"
    }
   ],
   "source": [
    "raindf_temp = raindf.loc[raindf['Location'] == 'Woomera']\n",
    "X = raindf_temp[['MinTemp','MaxTemp','Rainfall',\n",
    "'WindGustSpeed',\n",
    " 'WindSpeed9am',\n",
    " 'WindSpeed3pm',\n",
    " 'Humidity9am',\n",
    " 'Humidity3pm',\n",
    " 'Pressure9am','Pressure3pm','Temp9am', 'Temp3pm', 'RainToday']]\n",
    "\n",
    "y = raindf_temp['RainTomorrow']\n",
    "\n",
    "x_train, x_test, y_train, y_test = train_test_split(X, y,test_size=0.2,random_state=75)\n",
    "\n",
    "logistic_regression= LogisticRegression()\n",
    "logistic_regression.fit(x_train,y_train)\n",
    "y_pred=logistic_regression.predict(x_test)\n",
    "\n",
    "confusion_matrix = pd.crosstab(y_test, y_pred, rownames=['Actual'], colnames=['Predicted'])\n",
    "sn.heatmap(confusion_matrix, annot=True)\n",
    "\n",
    "print('Accuracy: ',metrics.accuracy_score(y_test, y_pred))\n",
    "plt.show()"
   ]
  },
  {
   "cell_type": "code",
   "execution_count": 293,
   "metadata": {},
   "outputs": [
    {
     "data": {
      "text/plain": [
       "0    2417\n",
       "Name: RainTomorrow, dtype: int64"
      ]
     },
     "execution_count": 293,
     "metadata": {},
     "output_type": "execute_result"
    }
   ],
   "source": [
    "#dominująca wartość w zbiorze \n",
    "raindf_temp['RainTomorrow'].value_counts().nlargest(1)"
   ]
  },
  {
   "cell_type": "code",
   "execution_count": 295,
   "metadata": {},
   "outputs": [
    {
     "data": {
      "text/plain": [
       "(2591,)"
      ]
     },
     "execution_count": 295,
     "metadata": {},
     "output_type": "execute_result"
    }
   ],
   "source": [
    "raindf_temp['RainTomorrow'].shape"
   ]
  },
  {
   "cell_type": "code",
   "execution_count": 296,
   "metadata": {},
   "outputs": [],
   "source": [
    "#\"klasyfikator będzie przewidywał zawsze brak deszczu (dominująca wartosć w zbiorze)\"\n",
    "y_pred_naiwny = np.zeros(2591)"
   ]
  },
  {
   "cell_type": "code",
   "execution_count": 300,
   "metadata": {},
   "outputs": [
    {
     "name": "stdout",
     "output_type": "stream",
     "text": [
      "Accuracy for logistic regresion:  0.9460500963391136\n",
      "Accuracy for dominant value:  0.9364161849710982\n"
     ]
    }
   ],
   "source": [
    "print('Accuracy for logistic regresion: ',metrics.accuracy_score(y_test, y_pred))\n",
    "print('Accuracy for dominant value: ',metrics.accuracy_score(y_test, np.zeros(len(y_test))))"
   ]
  },
  {
   "cell_type": "markdown",
   "metadata": {},
   "source": [
    "Wyniki są zbliżone jednak klasyfikator biorący tylko dominujące wartości jest mniej skuteczny"
   ]
  }
 ],
 "metadata": {
  "kernelspec": {
   "display_name": "Python 3",
   "language": "python",
   "name": "python3"
  },
  "language_info": {
   "codemirror_mode": {
    "name": "ipython",
    "version": 3
   },
   "file_extension": ".py",
   "mimetype": "text/x-python",
   "name": "python",
   "nbconvert_exporter": "python",
   "pygments_lexer": "ipython3",
   "version": "3.6.9"
  }
 },
 "nbformat": 4,
 "nbformat_minor": 4
}
