{
 "cells": [
  {
   "cell_type": "markdown",
   "metadata": {},
   "source": [
    "# Zadanie z grą FlapPyBird"
   ]
  },
  {
   "cell_type": "markdown",
   "metadata": {},
   "source": [
    "Wczytanie potrzebnych bibliotek"
   ]
  },
  {
   "cell_type": "code",
   "execution_count": 2,
   "metadata": {},
   "outputs": [],
   "source": [
    "import csv\n",
    "import operator\n",
    "import numpy as np\n",
    "import matplotlib.pyplot as plt\n",
    "import matplotlib.cm as cm\n",
    "from sklearn import linear_model\n",
    "\n",
    "from sklearn.linear_model import Ridge\n",
    "from sklearn.preprocessing import PolynomialFeatures\n",
    "from sklearn.pipeline import make_pipeline\n",
    "from sklearn.linear_model import LinearRegression\n",
    "\n",
    "from sklearn.metrics import mean_squared_error, r2_score"
   ]
  },
  {
   "cell_type": "markdown",
   "metadata": {},
   "source": [
    "Wykorzystywane zmienne"
   ]
  },
  {
   "cell_type": "code",
   "execution_count": 3,
   "metadata": {},
   "outputs": [],
   "source": [
    "FILE_NAME = '3'\n",
    "FILE_PATH = FILE_NAME + '.csv'\n",
    "OUT_FILE = FILE_NAME + 'out.csv'\n",
    "Etykiety = []\n",
    "Dane = []"
   ]
  },
  {
   "cell_type": "markdown",
   "metadata": {},
   "source": [
    "zapisanie ścieżki do csv"
   ]
  },
  {
   "cell_type": "code",
   "execution_count": 4,
   "metadata": {},
   "outputs": [],
   "source": [
    "def save_to_csv(X, Y):\n",
    "    with open(OUT_FILE, 'w', newline='') as csv_file:\n",
    "        employee_writer = csv.writer(csv_file, delimiter=',', quotechar='\"', quoting=csv.QUOTE_MINIMAL)\n",
    "        for i in range(0, len(X)):\n",
    "            employee_writer.writerow([X.item(i), Y.item(i)])\n"
   ]
  },
  {
   "cell_type": "markdown",
   "metadata": {},
   "source": [
    "Implementacja funkcji do regresji liniowej - wykorzystanie LinearRegression"
   ]
  },
  {
   "cell_type": "code",
   "execution_count": 6,
   "metadata": {},
   "outputs": [],
   "source": [
    "def Poli_reg_w(X,Y):\n",
    "\n",
    "    x = X[:, np.newaxis]\n",
    "    y = Y[:, np.newaxis]\n",
    "    r=[]\n",
    "    \n",
    "    for i in range(2,22):\n",
    "        polynomial_features= PolynomialFeatures(degree=i)\n",
    "        x_poly = polynomial_features.fit_transform(x)\n",
    "\n",
    "        model = LinearRegression()\n",
    "        model.fit(x_poly, y)\n",
    "        y_poly_pred = model.predict(x_poly)\n",
    "    \n",
    "        rmse = np.sqrt(mean_squared_error(y,y_poly_pred))\n",
    "        r2 = r2_score(y,y_poly_pred)\n",
    "        r.append((r2,i))\n",
    "    #print(rmse)\n",
    "    #print(r2)\n",
    "    #print(r)\n",
    "    print(max(r))\n",
    "    \n",
    "    plt.scatter(X,Y)\n",
    "    plt.plot(X, y_poly_pred, color='m')\n",
    "    save_to_csv(X, y_poly_pred) #ścieżka \n",
    "    plt.show()"
   ]
  },
  {
   "cell_type": "code",
   "execution_count": 7,
   "metadata": {},
   "outputs": [
    {
     "name": "stdout",
     "output_type": "stream",
     "text": [
      "(0.8879764285646212, 19)\n"
     ]
    },
    {
     "data": {
      "image/png": "[encoded data removed]",
      "text/plain": [
       "<Figure size 432x288 with 1 Axes>"
      ]
     },
     "metadata": {
      "needs_background": "light"
     },
     "output_type": "display_data"
    }
   ],
   "source": [
    "with open(FILE_PATH, mode='r') as plik_csv:\n",
    "    csv_Rdr = csv.reader(plik_csv, delimiter=',')\n",
    "    Etykiety = next(csv_Rdr)\n",
    "    for wiersz in csv_Rdr:\n",
    "        Dane.append(wiersz)\n",
    "\n",
    "X = np.empty([1])\n",
    "Y = np.empty([1])\n",
    "for d in Dane:\n",
    "    X = np.append(X, float(d[0]))\n",
    "    Y = np.append(Y, float(d[1]))\n",
    "Poli_reg_w(X, Y)"
   ]
  },
  {
   "cell_type": "markdown",
   "metadata": {},
   "source": [
    "Najlepsze dopasowanie uzyskałam wielomianem 19 stopnia "
   ]
  },
  {
   "cell_type": "markdown",
   "metadata": {},
   "source": [
    "# Wygenerowana ścieżka "
   ]
  },
  {
   "cell_type": "code",
   "execution_count": 32,
   "metadata": {
    "scrolled": true
   },
   "outputs": [
    {
     "name": "stdout",
     "output_type": "stream",
     "text": [
      "867\n"
     ]
    }
   ],
   "source": [
    "poly_reg = PolynomialFeatures(degree=7)\n",
    "X_poly = poly_reg.fit_transform(X.reshape(-1, 1))\n",
    "pol_reg = LinearRegression()\n",
    "pol_reg.fit(X_poly, Y)\n",
    "print(len(Y))\n",
    "przewidziane = []\n",
    "i = np.arange(5000)\n",
    "i = np.array(i)\n",
    "#p = pol_reg.fit(i.reshape(-1, 1), Y)\n",
    "#przewidziane.append(p.predict(i.reshape(-1, 1)))"
   ]
  },
  {
   "cell_type": "markdown",
   "metadata": {},
   "source": [
    "# Własna implementacja regresji "
   ]
  },
  {
   "cell_type": "code",
   "execution_count": 48,
   "metadata": {},
   "outputs": [],
   "source": [
    "def poli_regression(Xin, Yin):\n",
    "    first_degree = 2\n",
    "    last_degree = 22\n",
    "    degree_step = 1\n",
    "    r= []\n",
    "\n",
    "    plt.scatter(Xin, Yin)\n",
    "    \n",
    "    for degree in range(first_degree, last_degree, degree_step):\n",
    "        model = make_pipeline(PolynomialFeatures(degree), Ridge())\n",
    "        model.fit(Xin.reshape(-1, 1), Yin)\n",
    "        Yout = model.predict(Xin.reshape(-1, 1))\n",
    "        r2 = r2_score(Yin,Yout)\n",
    "        r.append((r2,degree))\n",
    "        \n",
    "    #print(max(r))\n",
    "    najlepszy = max(r)\n",
    "    #print(najlepszy[1])\n",
    "    model = make_pipeline(PolynomialFeatures(najlepszy[1]), Ridge())\n",
    "    model.fit(Xin.reshape(-1, 1), Yin)\n",
    "    Yout = model.predict(Xin.reshape(-1, 1))\n",
    "    plt.plot(Xin, Yout,label=\"degree %d\" % najlepszy[1], color ='red')\n",
    "    save_to_csv(Xin, Yout) #ścieżka \n",
    "\n",
    "    plt.legend(loc='lower left')\n",
    "    plt.title('Polynomial regression')\n",
    "    plt.show()"
   ]
  },
  {
   "cell_type": "code",
   "execution_count": 49,
   "metadata": {},
   "outputs": [
    {
     "name": "stderr",
     "output_type": "stream",
     "text": [
      "/home/justyna/.local/lib/python3.6/site-packages/sklearn/linear_model/_ridge.py:148: LinAlgWarning: Ill-conditioned matrix (rcond=9.25762e-19): result may not be accurate.\n",
      "  overwrite_a=True).T\n",
      "/home/justyna/.local/lib/python3.6/site-packages/sklearn/linear_model/_ridge.py:148: LinAlgWarning: Ill-conditioned matrix (rcond=2.72918e-26): result may not be accurate.\n",
      "  overwrite_a=True).T\n",
      "/home/justyna/.local/lib/python3.6/site-packages/sklearn/linear_model/_ridge.py:148: LinAlgWarning: Ill-conditioned matrix (rcond=8.57953e-34): result may not be accurate.\n",
      "  overwrite_a=True).T\n",
      "/home/justyna/.local/lib/python3.6/site-packages/sklearn/linear_model/_ridge.py:148: LinAlgWarning: Ill-conditioned matrix (rcond=2.74128e-41): result may not be accurate.\n",
      "  overwrite_a=True).T\n",
      "/home/justyna/.local/lib/python3.6/site-packages/sklearn/linear_model/_ridge.py:148: LinAlgWarning: Ill-conditioned matrix (rcond=8.77733e-49): result may not be accurate.\n",
      "  overwrite_a=True).T\n",
      "/home/justyna/.local/lib/python3.6/site-packages/sklearn/linear_model/_ridge.py:148: LinAlgWarning: Ill-conditioned matrix (rcond=2.80339e-56): result may not be accurate.\n",
      "  overwrite_a=True).T\n",
      "/home/justyna/.local/lib/python3.6/site-packages/sklearn/linear_model/_ridge.py:148: LinAlgWarning: Ill-conditioned matrix (rcond=8.91836e-64): result may not be accurate.\n",
      "  overwrite_a=True).T\n",
      "/home/justyna/.local/lib/python3.6/site-packages/sklearn/linear_model/_ridge.py:148: LinAlgWarning: Ill-conditioned matrix (rcond=2.8251e-71): result may not be accurate.\n",
      "  overwrite_a=True).T\n",
      "/home/justyna/.local/lib/python3.6/site-packages/sklearn/linear_model/_ridge.py:148: LinAlgWarning: Ill-conditioned matrix (rcond=8.91212e-79): result may not be accurate.\n",
      "  overwrite_a=True).T\n",
      "/home/justyna/.local/lib/python3.6/site-packages/sklearn/linear_model/_ridge.py:148: LinAlgWarning: Ill-conditioned matrix (rcond=8.91212e-79): result may not be accurate.\n",
      "  overwrite_a=True).T\n"
     ]
    },
    {
     "data": {
      "image/png": "[encoded data removed]",
      "text/plain": [
       "<Figure size 432x288 with 1 Axes>"
      ]
     },
     "metadata": {
      "needs_background": "light"
     },
     "output_type": "display_data"
    }
   ],
   "source": [
    "with open(FILE_PATH, mode='r') as plik_csv:\n",
    "    csv_Rdr = csv.reader(plik_csv, delimiter=',')\n",
    "    Etykiety = next(csv_Rdr)\n",
    "    for wiersz in csv_Rdr:\n",
    "        Dane.append(wiersz)\n",
    "\n",
    "X = np.empty([1])\n",
    "Y = np.empty([1])\n",
    "for d in Dane:\n",
    "    X = np.append(X, float(d[0]))\n",
    "    Y = np.append(Y, float(d[1]))\n",
    "poli_regression(X, Y)"
   ]
  },
  {
   "cell_type": "markdown",
   "metadata": {},
   "source": [
    "Według wyliczenia, najlepsze dopasowanie uzyskuję dla wielomiana 10 stopnia "
   ]
  },
  {
   "cell_type": "markdown",
   "metadata": {},
   "source": [
    "# Przewidywana ścieżka"
   ]
  },
  {
   "cell_type": "code",
   "execution_count": 53,
   "metadata": {},
   "outputs": [
    {
     "name": "stdout",
     "output_type": "stream",
     "text": [
      "[  9.50203424 120.75537858 122.81810797 ...  28.00578449  27.58190949\n",
      "  27.20979849]\n"
     ]
    },
    {
     "name": "stderr",
     "output_type": "stream",
     "text": [
      "/home/justyna/.local/lib/python3.6/site-packages/sklearn/linear_model/_ridge.py:148: LinAlgWarning: Ill-conditioned matrix (rcond=8.91212e-79): result may not be accurate.\n",
      "  overwrite_a=True).T\n"
     ]
    }
   ],
   "source": [
    "model = make_pipeline(PolynomialFeatures(10), Ridge())\n",
    "model.fit(X.reshape(-1, 1), Y)\n",
    "Yout = model.predict(X.reshape(-1, 1))\n",
    "print(Yout)"
   ]
  },
  {
   "cell_type": "code",
   "execution_count": null,
   "metadata": {},
   "outputs": [],
   "source": []
  }
 ],
 "metadata": {
  "kernelspec": {
   "display_name": "Python 3",
   "language": "python",
   "name": "python3"
  },
  "language_info": {
   "codemirror_mode": {
    "name": "ipython",
    "version": 3
   },
   "file_extension": ".py",
   "mimetype": "text/x-python",
   "name": "python",
   "nbconvert_exporter": "python",
   "pygments_lexer": "ipython3",
   "version": "3.6.9"
  }
 },
 "nbformat": 4,
 "nbformat_minor": 4
}
